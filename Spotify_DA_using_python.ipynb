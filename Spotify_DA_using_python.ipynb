{
 "cells": [
  {
   "cell_type": "markdown",
   "id": "7727cb80",
   "metadata": {},
   "source": [
    "<a href=\"https://www.kaggle.com/code/mrankitgupta/spotify-data-analysis-using-python-project?scriptVersionId=93571216\" target=\"_blank\"><img align=\"left\" alt=\"Kaggle\" title=\"Open in Kaggle\" src=\"https://kaggle.com/static/images/open-in-kaggle.svg\"></a>"
   ]
  },
  {
   "cell_type": "code",
   "execution_count": 124,
   "id": "a61bd13d",
   "metadata": {},
   "outputs": [],
   "source": [
    "## Project on Spotify Data Analysis using Python - Rahul Rajan"
   ]
  },
  {
   "cell_type": "code",
   "execution_count": 126,
   "id": "73583920",
   "metadata": {},
   "outputs": [
    {
     "ename": "SyntaxError",
     "evalue": "unterminated string literal (detected at line 3) (90439345.py, line 3)",
     "output_type": "error",
     "traceback": [
      "\u001b[1;36m  Cell \u001b[1;32mIn[126], line 3\u001b[1;36m\u001b[0m\n\u001b[1;33m    Spotify is a Swedish audio streaming and media services provider founded in April 2006. It is the world's largest music streaming service provider and has over 381 million monthly active users, which also includes 172 million paid subscribers.\u001b[0m\n\u001b[1;37m                                                                                                           ^\u001b[0m\n\u001b[1;31mSyntaxError\u001b[0m\u001b[1;31m:\u001b[0m unterminated string literal (detected at line 3)\n"
     ]
    }
   ],
   "source": [
    "## INTRODUCTION\n",
    "\n",
    "Spotify is a Swedish audio streaming and media services provider founded in April 2006. It is the world's largest music streaming service provider and has over 381 million monthly active users, which also includes 172 million paid subscribers.\n",
    "\n",
    "Here, We'll exploring and quantify data about music and drawing valuable insights.\n",
    "\n",
    "Perform an exploratory data analysis (EDA) and data visualization project using data from Spotify using Python.\n",
    "\n",
    "Data analysis exploring the relationship between the audio features of a song and how positive or negative its lyrics are, involving sentiment analysis.\n",
    "\n",
    "Includes data collection script that scrapes audio feature data from the Spotify API, as well as lyrical data from the LyricWikiAPI\n",
    "\n",
    "Spotify Data Analysis makes use of secondary data from Spotify. Learners will use data to identify patterns and relationships between different characteristics. The activity will support learners in developing their ability to review and interpret a dataset. The activity starts by encouraging learners to think of questions that the dataset might answer and thus develop their “Problem” skills. Once the dataset has been analysed learners will have the opportunity to reorganise and restructure data to help them answer their questions."
   ]
  },
  {
   "cell_type": "markdown",
   "id": "6db7ab07",
   "metadata": {
    "papermill": {
     "duration": 0.035514,
     "end_time": "2022-04-20T20:10:56.07738",
     "exception": false,
     "start_time": "2022-04-20T20:10:56.041866",
     "status": "completed"
    },
    "tags": []
   },
   "source": [
    "## Importing Datasets"
   ]
  },
  {
   "cell_type": "code",
   "execution_count": 5,
   "id": "1eae4738",
   "metadata": {
    "execution": {
     "iopub.execute_input": "2022-04-20T20:10:56.151865Z",
     "iopub.status.busy": "2022-04-20T20:10:56.151584Z",
     "iopub.status.idle": "2022-04-20T20:10:57.420037Z",
     "shell.execute_reply": "2022-04-20T20:10:57.418737Z"
    },
    "papermill": {
     "duration": 1.30785,
     "end_time": "2022-04-20T20:10:57.422902",
     "exception": false,
     "start_time": "2022-04-20T20:10:56.115052",
     "status": "completed"
    },
    "tags": []
   },
   "outputs": [],
   "source": [
    "import numpy as np\n",
    "import pandas as pd\n",
    "import matplotlib.pyplot as plt\n",
    "import seaborn as sns"
   ]
  },
  {
   "cell_type": "code",
   "execution_count": 26,
   "id": "9c89f7f7",
   "metadata": {
    "execution": {
     "iopub.execute_input": "2022-04-20T20:10:57.496212Z",
     "iopub.status.busy": "2022-04-20T20:10:57.495875Z",
     "iopub.status.idle": "2022-04-20T20:11:04.155792Z",
     "shell.execute_reply": "2022-04-20T20:11:04.154823Z"
    },
    "papermill": {
     "duration": 6.699459,
     "end_time": "2022-04-20T20:11:04.158395",
     "exception": false,
     "start_time": "2022-04-20T20:10:57.458936",
     "status": "completed"
    },
    "tags": []
   },
   "outputs": [
    {
     "name": "stderr",
     "output_type": "stream",
     "text": [
      "C:\\Users\\RAHUL RAJAN\\AppData\\Local\\Temp\\ipykernel_13912\\679037229.py:2: DtypeWarning: Columns (1,2,3,4,7,20) have mixed types. Specify dtype option on import or set low_memory=False.\n",
      "  df_tracks = pd.read_csv('F:/Courses_Files/Data_Analyst_Files_&_Resources/python_DA_Projects/spotify_datasets/tracks.csv')\n"
     ]
    }
   ],
   "source": [
    "# Reading Data Set \n",
    "df_tracks = pd.read_csv('F:/Courses_Files/Data_Analyst_Files_&_Resources/python_DA_Projects/spotify_datasets/tracks.csv')\n",
    "df_spotfeatures = pd.read_csv('F:/Courses_Files/Data_Analyst_Files_&_Resources/python_DA_Projects/spotify_datasets/SpotifyFeatures.csv')\n",
    "df_artists = pd.read_csv('F:/Courses_Files/Data_Analyst_Files_&_Resources/python_DA_Projects/spotify_datasets/artists.csv')"
   ]
  },
  {
   "cell_type": "code",
   "execution_count": 27,
   "id": "0794c24e",
   "metadata": {},
   "outputs": [
    {
     "name": "stdout",
     "output_type": "stream",
     "text": [
      "<class 'pandas.core.frame.DataFrame'>\n",
      "RangeIndex: 1048575 entries, 0 to 1048574\n",
      "Data columns (total 23 columns):\n",
      " #   Column            Non-Null Count    Dtype  \n",
      "---  ------            --------------    -----  \n",
      " 0   Column1           114000 non-null   float64\n",
      " 1   track_id          114000 non-null   object \n",
      " 2   artists           113999 non-null   object \n",
      " 3   album_name        113999 non-null   object \n",
      " 4   track_name        113999 non-null   object \n",
      " 5   popularity        114000 non-null   float64\n",
      " 6   duration_ms       114000 non-null   float64\n",
      " 7   explicit          114000 non-null   object \n",
      " 8   danceability      114000 non-null   float64\n",
      " 9   energy            114000 non-null   float64\n",
      " 10  key               114000 non-null   float64\n",
      " 11  loudness          114000 non-null   float64\n",
      " 12  mode              114000 non-null   float64\n",
      " 13  speechiness       114000 non-null   float64\n",
      " 14  acousticness      114000 non-null   float64\n",
      " 15  instrumentalness  114000 non-null   float64\n",
      " 16  liveness          114000 non-null   float64\n",
      " 17  valence           114000 non-null   float64\n",
      " 18  tempo             114000 non-null   float64\n",
      " 19  time_signature    114000 non-null   float64\n",
      " 20  track_genre       114000 non-null   object \n",
      " 21  year              1048575 non-null  int64  \n",
      " 22  release_date      1048575 non-null  object \n",
      "dtypes: float64(15), int64(1), object(7)\n",
      "memory usage: 184.0+ MB\n",
      "<class 'pandas.core.frame.DataFrame'>\n",
      "RangeIndex: 232725 entries, 0 to 232724\n",
      "Data columns (total 18 columns):\n",
      " #   Column            Non-Null Count   Dtype  \n",
      "---  ------            --------------   -----  \n",
      " 0   genre             232725 non-null  object \n",
      " 1   artist_name       232725 non-null  object \n",
      " 2   track_name        232725 non-null  object \n",
      " 3   track_id          232725 non-null  object \n",
      " 4   popularity        232725 non-null  int64  \n",
      " 5   acousticness      232725 non-null  float64\n",
      " 6   danceability      232725 non-null  float64\n",
      " 7   duration_ms       232725 non-null  int64  \n",
      " 8   energy            232725 non-null  float64\n",
      " 9   instrumentalness  232725 non-null  float64\n",
      " 10  key               232725 non-null  object \n",
      " 11  liveness          232725 non-null  float64\n",
      " 12  loudness          232725 non-null  float64\n",
      " 13  mode              232725 non-null  object \n",
      " 14  speechiness       232725 non-null  float64\n",
      " 15  tempo             232725 non-null  float64\n",
      " 16  time_signature    232725 non-null  object \n",
      " 17  valence           232725 non-null  float64\n",
      "dtypes: float64(9), int64(2), object(7)\n",
      "memory usage: 32.0+ MB\n",
      "<class 'pandas.core.frame.DataFrame'>\n",
      "RangeIndex: 1048575 entries, 0 to 1048574\n",
      "Data columns (total 5 columns):\n",
      " #   Column      Non-Null Count    Dtype  \n",
      "---  ------      --------------    -----  \n",
      " 0   id          1048575 non-null  object \n",
      " 1   followers   1048562 non-null  float64\n",
      " 2   genres      1048575 non-null  object \n",
      " 3   name        1048575 non-null  object \n",
      " 4   popularity  1048575 non-null  int64  \n",
      "dtypes: float64(1), int64(1), object(3)\n",
      "memory usage: 40.0+ MB\n"
     ]
    }
   ],
   "source": [
    "# info about all the files\n",
    "df_tracks.info()\n",
    "df_spotfeatures.info()\n",
    "df_artists.info()"
   ]
  },
  {
   "cell_type": "code",
   "execution_count": 28,
   "id": "7a46628e",
   "metadata": {
    "execution": {
     "iopub.execute_input": "2022-04-20T20:11:04.230619Z",
     "iopub.status.busy": "2022-04-20T20:11:04.23034Z",
     "iopub.status.idle": "2022-04-20T20:11:04.263007Z",
     "shell.execute_reply": "2022-04-20T20:11:04.26207Z"
    },
    "papermill": {
     "duration": 0.071026,
     "end_time": "2022-04-20T20:11:04.265035",
     "exception": false,
     "start_time": "2022-04-20T20:11:04.194009",
     "status": "completed"
    },
    "tags": []
   },
   "outputs": [
    {
     "data": {
      "text/html": [
       "<div>\n",
       "<style scoped>\n",
       "    .dataframe tbody tr th:only-of-type {\n",
       "        vertical-align: middle;\n",
       "    }\n",
       "\n",
       "    .dataframe tbody tr th {\n",
       "        vertical-align: top;\n",
       "    }\n",
       "\n",
       "    .dataframe thead th {\n",
       "        text-align: right;\n",
       "    }\n",
       "</style>\n",
       "<table border=\"1\" class=\"dataframe\">\n",
       "  <thead>\n",
       "    <tr style=\"text-align: right;\">\n",
       "      <th></th>\n",
       "      <th>Column1</th>\n",
       "      <th>track_id</th>\n",
       "      <th>artists</th>\n",
       "      <th>album_name</th>\n",
       "      <th>track_name</th>\n",
       "      <th>popularity</th>\n",
       "      <th>duration_ms</th>\n",
       "      <th>explicit</th>\n",
       "      <th>danceability</th>\n",
       "      <th>energy</th>\n",
       "      <th>...</th>\n",
       "      <th>speechiness</th>\n",
       "      <th>acousticness</th>\n",
       "      <th>instrumentalness</th>\n",
       "      <th>liveness</th>\n",
       "      <th>valence</th>\n",
       "      <th>tempo</th>\n",
       "      <th>time_signature</th>\n",
       "      <th>track_genre</th>\n",
       "      <th>year</th>\n",
       "      <th>release_date</th>\n",
       "    </tr>\n",
       "  </thead>\n",
       "  <tbody>\n",
       "    <tr>\n",
       "      <th>0</th>\n",
       "      <td>0.0</td>\n",
       "      <td>5SuOikwiRyPMVoIQDJUgSV</td>\n",
       "      <td>Gen Hoshino</td>\n",
       "      <td>Comedy</td>\n",
       "      <td>Comedy</td>\n",
       "      <td>73.0</td>\n",
       "      <td>230666.0</td>\n",
       "      <td>False</td>\n",
       "      <td>0.676</td>\n",
       "      <td>0.4610</td>\n",
       "      <td>...</td>\n",
       "      <td>0.1430</td>\n",
       "      <td>0.0322</td>\n",
       "      <td>0.000001</td>\n",
       "      <td>0.3580</td>\n",
       "      <td>0.715</td>\n",
       "      <td>87.917</td>\n",
       "      <td>4.0</td>\n",
       "      <td>acoustic</td>\n",
       "      <td>1999</td>\n",
       "      <td>02-11-1999</td>\n",
       "    </tr>\n",
       "    <tr>\n",
       "      <th>1</th>\n",
       "      <td>1.0</td>\n",
       "      <td>4qPNDBW1i3p13qLCt0Ki3A</td>\n",
       "      <td>Ben Woodward</td>\n",
       "      <td>Ghost (Acoustic)</td>\n",
       "      <td>Ghost - Acoustic</td>\n",
       "      <td>55.0</td>\n",
       "      <td>149610.0</td>\n",
       "      <td>False</td>\n",
       "      <td>0.420</td>\n",
       "      <td>0.1660</td>\n",
       "      <td>...</td>\n",
       "      <td>0.0763</td>\n",
       "      <td>0.9240</td>\n",
       "      <td>0.000006</td>\n",
       "      <td>0.1010</td>\n",
       "      <td>0.267</td>\n",
       "      <td>77.489</td>\n",
       "      <td>4.0</td>\n",
       "      <td>acoustic</td>\n",
       "      <td>1999</td>\n",
       "      <td>02-11-1999</td>\n",
       "    </tr>\n",
       "    <tr>\n",
       "      <th>2</th>\n",
       "      <td>2.0</td>\n",
       "      <td>1iJBSr7s7jYXzM8EGcbK5b</td>\n",
       "      <td>Ingrid Michaelson;ZAYN</td>\n",
       "      <td>To Begin Again</td>\n",
       "      <td>To Begin Again</td>\n",
       "      <td>57.0</td>\n",
       "      <td>210826.0</td>\n",
       "      <td>False</td>\n",
       "      <td>0.438</td>\n",
       "      <td>0.3590</td>\n",
       "      <td>...</td>\n",
       "      <td>0.0557</td>\n",
       "      <td>0.2100</td>\n",
       "      <td>0.000000</td>\n",
       "      <td>0.1170</td>\n",
       "      <td>0.120</td>\n",
       "      <td>76.332</td>\n",
       "      <td>4.0</td>\n",
       "      <td>acoustic</td>\n",
       "      <td>1999</td>\n",
       "      <td>02-11-1999</td>\n",
       "    </tr>\n",
       "    <tr>\n",
       "      <th>3</th>\n",
       "      <td>3.0</td>\n",
       "      <td>6lfxq3CG4xtTiEg7opyCyx</td>\n",
       "      <td>Kina Grannis</td>\n",
       "      <td>Crazy Rich Asians (Original Motion Picture Sou...</td>\n",
       "      <td>Can't Help Falling In Love</td>\n",
       "      <td>71.0</td>\n",
       "      <td>201933.0</td>\n",
       "      <td>False</td>\n",
       "      <td>0.266</td>\n",
       "      <td>0.0596</td>\n",
       "      <td>...</td>\n",
       "      <td>0.0363</td>\n",
       "      <td>0.9050</td>\n",
       "      <td>0.000071</td>\n",
       "      <td>0.1320</td>\n",
       "      <td>0.143</td>\n",
       "      <td>181.740</td>\n",
       "      <td>3.0</td>\n",
       "      <td>acoustic</td>\n",
       "      <td>1999</td>\n",
       "      <td>02-11-1999</td>\n",
       "    </tr>\n",
       "    <tr>\n",
       "      <th>4</th>\n",
       "      <td>4.0</td>\n",
       "      <td>5vjLSffimiIP26QG5WcN2K</td>\n",
       "      <td>Chord Overstreet</td>\n",
       "      <td>Hold On</td>\n",
       "      <td>Hold On</td>\n",
       "      <td>82.0</td>\n",
       "      <td>198853.0</td>\n",
       "      <td>False</td>\n",
       "      <td>0.618</td>\n",
       "      <td>0.4430</td>\n",
       "      <td>...</td>\n",
       "      <td>0.0526</td>\n",
       "      <td>0.4690</td>\n",
       "      <td>0.000000</td>\n",
       "      <td>0.0829</td>\n",
       "      <td>0.167</td>\n",
       "      <td>119.949</td>\n",
       "      <td>4.0</td>\n",
       "      <td>acoustic</td>\n",
       "      <td>1999</td>\n",
       "      <td>02-11-1999</td>\n",
       "    </tr>\n",
       "  </tbody>\n",
       "</table>\n",
       "<p>5 rows × 23 columns</p>\n",
       "</div>"
      ],
      "text/plain": [
       "   Column1                track_id                 artists  \\\n",
       "0      0.0  5SuOikwiRyPMVoIQDJUgSV             Gen Hoshino   \n",
       "1      1.0  4qPNDBW1i3p13qLCt0Ki3A            Ben Woodward   \n",
       "2      2.0  1iJBSr7s7jYXzM8EGcbK5b  Ingrid Michaelson;ZAYN   \n",
       "3      3.0  6lfxq3CG4xtTiEg7opyCyx            Kina Grannis   \n",
       "4      4.0  5vjLSffimiIP26QG5WcN2K        Chord Overstreet   \n",
       "\n",
       "                                          album_name  \\\n",
       "0                                             Comedy   \n",
       "1                                   Ghost (Acoustic)   \n",
       "2                                     To Begin Again   \n",
       "3  Crazy Rich Asians (Original Motion Picture Sou...   \n",
       "4                                            Hold On   \n",
       "\n",
       "                   track_name  popularity  duration_ms explicit  danceability  \\\n",
       "0                      Comedy        73.0     230666.0    False         0.676   \n",
       "1            Ghost - Acoustic        55.0     149610.0    False         0.420   \n",
       "2              To Begin Again        57.0     210826.0    False         0.438   \n",
       "3  Can't Help Falling In Love        71.0     201933.0    False         0.266   \n",
       "4                     Hold On        82.0     198853.0    False         0.618   \n",
       "\n",
       "   energy  ...  speechiness  acousticness  instrumentalness  liveness  \\\n",
       "0  0.4610  ...       0.1430        0.0322          0.000001    0.3580   \n",
       "1  0.1660  ...       0.0763        0.9240          0.000006    0.1010   \n",
       "2  0.3590  ...       0.0557        0.2100          0.000000    0.1170   \n",
       "3  0.0596  ...       0.0363        0.9050          0.000071    0.1320   \n",
       "4  0.4430  ...       0.0526        0.4690          0.000000    0.0829   \n",
       "\n",
       "   valence    tempo  time_signature  track_genre  year  release_date  \n",
       "0    0.715   87.917             4.0     acoustic  1999    02-11-1999  \n",
       "1    0.267   77.489             4.0     acoustic  1999    02-11-1999  \n",
       "2    0.120   76.332             4.0     acoustic  1999    02-11-1999  \n",
       "3    0.143  181.740             3.0     acoustic  1999    02-11-1999  \n",
       "4    0.167  119.949             4.0     acoustic  1999    02-11-1999  \n",
       "\n",
       "[5 rows x 23 columns]"
      ]
     },
     "execution_count": 28,
     "metadata": {},
     "output_type": "execute_result"
    }
   ],
   "source": [
    "df_tracks.head()"
   ]
  },
  {
   "cell_type": "code",
   "execution_count": 29,
   "id": "d6f44a7c",
   "metadata": {
    "execution": {
     "iopub.execute_input": "2022-04-20T20:11:04.339638Z",
     "iopub.status.busy": "2022-04-20T20:11:04.339325Z",
     "iopub.status.idle": "2022-04-20T20:11:04.361195Z",
     "shell.execute_reply": "2022-04-20T20:11:04.360583Z"
    },
    "papermill": {
     "duration": 0.061192,
     "end_time": "2022-04-20T20:11:04.363089",
     "exception": false,
     "start_time": "2022-04-20T20:11:04.301897",
     "status": "completed"
    },
    "tags": []
   },
   "outputs": [
    {
     "data": {
      "text/html": [
       "<div>\n",
       "<style scoped>\n",
       "    .dataframe tbody tr th:only-of-type {\n",
       "        vertical-align: middle;\n",
       "    }\n",
       "\n",
       "    .dataframe tbody tr th {\n",
       "        vertical-align: top;\n",
       "    }\n",
       "\n",
       "    .dataframe thead th {\n",
       "        text-align: right;\n",
       "    }\n",
       "</style>\n",
       "<table border=\"1\" class=\"dataframe\">\n",
       "  <thead>\n",
       "    <tr style=\"text-align: right;\">\n",
       "      <th></th>\n",
       "      <th>genre</th>\n",
       "      <th>artist_name</th>\n",
       "      <th>track_name</th>\n",
       "      <th>track_id</th>\n",
       "      <th>popularity</th>\n",
       "      <th>acousticness</th>\n",
       "      <th>danceability</th>\n",
       "      <th>duration_ms</th>\n",
       "      <th>energy</th>\n",
       "      <th>instrumentalness</th>\n",
       "      <th>key</th>\n",
       "      <th>liveness</th>\n",
       "      <th>loudness</th>\n",
       "      <th>mode</th>\n",
       "      <th>speechiness</th>\n",
       "      <th>tempo</th>\n",
       "      <th>time_signature</th>\n",
       "      <th>valence</th>\n",
       "    </tr>\n",
       "  </thead>\n",
       "  <tbody>\n",
       "    <tr>\n",
       "      <th>0</th>\n",
       "      <td>Movie</td>\n",
       "      <td>Henri Salvador</td>\n",
       "      <td>C'est beau de faire un Show</td>\n",
       "      <td>0BRjO6ga9RKCKjfDqeFgWV</td>\n",
       "      <td>0</td>\n",
       "      <td>0.611</td>\n",
       "      <td>0.389</td>\n",
       "      <td>99373</td>\n",
       "      <td>0.910</td>\n",
       "      <td>0.000</td>\n",
       "      <td>C#</td>\n",
       "      <td>0.3460</td>\n",
       "      <td>-1.828</td>\n",
       "      <td>Major</td>\n",
       "      <td>0.0525</td>\n",
       "      <td>166.969</td>\n",
       "      <td>04-Apr</td>\n",
       "      <td>0.814</td>\n",
       "    </tr>\n",
       "    <tr>\n",
       "      <th>1</th>\n",
       "      <td>Movie</td>\n",
       "      <td>Martin &amp; les fées</td>\n",
       "      <td>Perdu d'avance (par Gad Elmaleh)</td>\n",
       "      <td>0BjC1NfoEOOusryehmNudP</td>\n",
       "      <td>1</td>\n",
       "      <td>0.246</td>\n",
       "      <td>0.590</td>\n",
       "      <td>137373</td>\n",
       "      <td>0.737</td>\n",
       "      <td>0.000</td>\n",
       "      <td>F#</td>\n",
       "      <td>0.1510</td>\n",
       "      <td>-5.559</td>\n",
       "      <td>Minor</td>\n",
       "      <td>0.0868</td>\n",
       "      <td>174.003</td>\n",
       "      <td>04-Apr</td>\n",
       "      <td>0.816</td>\n",
       "    </tr>\n",
       "    <tr>\n",
       "      <th>2</th>\n",
       "      <td>Movie</td>\n",
       "      <td>Joseph Williams</td>\n",
       "      <td>Don't Let Me Be Lonely Tonight</td>\n",
       "      <td>0CoSDzoNIKCRs124s9uTVy</td>\n",
       "      <td>3</td>\n",
       "      <td>0.952</td>\n",
       "      <td>0.663</td>\n",
       "      <td>170267</td>\n",
       "      <td>0.131</td>\n",
       "      <td>0.000</td>\n",
       "      <td>C</td>\n",
       "      <td>0.1030</td>\n",
       "      <td>-13.879</td>\n",
       "      <td>Minor</td>\n",
       "      <td>0.0362</td>\n",
       "      <td>99.488</td>\n",
       "      <td>05-Apr</td>\n",
       "      <td>0.368</td>\n",
       "    </tr>\n",
       "    <tr>\n",
       "      <th>3</th>\n",
       "      <td>Movie</td>\n",
       "      <td>Henri Salvador</td>\n",
       "      <td>Dis-moi Monsieur Gordon Cooper</td>\n",
       "      <td>0Gc6TVm52BwZD07Ki6tIvf</td>\n",
       "      <td>0</td>\n",
       "      <td>0.703</td>\n",
       "      <td>0.240</td>\n",
       "      <td>152427</td>\n",
       "      <td>0.326</td>\n",
       "      <td>0.000</td>\n",
       "      <td>C#</td>\n",
       "      <td>0.0985</td>\n",
       "      <td>-12.178</td>\n",
       "      <td>Major</td>\n",
       "      <td>0.0395</td>\n",
       "      <td>171.758</td>\n",
       "      <td>04-Apr</td>\n",
       "      <td>0.227</td>\n",
       "    </tr>\n",
       "    <tr>\n",
       "      <th>4</th>\n",
       "      <td>Movie</td>\n",
       "      <td>Fabien Nataf</td>\n",
       "      <td>Ouverture</td>\n",
       "      <td>0IuslXpMROHdEPvSl1fTQK</td>\n",
       "      <td>4</td>\n",
       "      <td>0.950</td>\n",
       "      <td>0.331</td>\n",
       "      <td>82625</td>\n",
       "      <td>0.225</td>\n",
       "      <td>0.123</td>\n",
       "      <td>F</td>\n",
       "      <td>0.2020</td>\n",
       "      <td>-21.150</td>\n",
       "      <td>Major</td>\n",
       "      <td>0.0456</td>\n",
       "      <td>140.576</td>\n",
       "      <td>04-Apr</td>\n",
       "      <td>0.390</td>\n",
       "    </tr>\n",
       "  </tbody>\n",
       "</table>\n",
       "</div>"
      ],
      "text/plain": [
       "   genre        artist_name                        track_name  \\\n",
       "0  Movie     Henri Salvador       C'est beau de faire un Show   \n",
       "1  Movie  Martin & les fées  Perdu d'avance (par Gad Elmaleh)   \n",
       "2  Movie    Joseph Williams    Don't Let Me Be Lonely Tonight   \n",
       "3  Movie     Henri Salvador    Dis-moi Monsieur Gordon Cooper   \n",
       "4  Movie       Fabien Nataf                         Ouverture   \n",
       "\n",
       "                 track_id  popularity  acousticness  danceability  \\\n",
       "0  0BRjO6ga9RKCKjfDqeFgWV           0         0.611         0.389   \n",
       "1  0BjC1NfoEOOusryehmNudP           1         0.246         0.590   \n",
       "2  0CoSDzoNIKCRs124s9uTVy           3         0.952         0.663   \n",
       "3  0Gc6TVm52BwZD07Ki6tIvf           0         0.703         0.240   \n",
       "4  0IuslXpMROHdEPvSl1fTQK           4         0.950         0.331   \n",
       "\n",
       "   duration_ms  energy  instrumentalness key  liveness  loudness   mode  \\\n",
       "0        99373   0.910             0.000  C#    0.3460    -1.828  Major   \n",
       "1       137373   0.737             0.000  F#    0.1510    -5.559  Minor   \n",
       "2       170267   0.131             0.000   C    0.1030   -13.879  Minor   \n",
       "3       152427   0.326             0.000  C#    0.0985   -12.178  Major   \n",
       "4        82625   0.225             0.123   F    0.2020   -21.150  Major   \n",
       "\n",
       "   speechiness    tempo time_signature  valence  \n",
       "0       0.0525  166.969         04-Apr    0.814  \n",
       "1       0.0868  174.003         04-Apr    0.816  \n",
       "2       0.0362   99.488         05-Apr    0.368  \n",
       "3       0.0395  171.758         04-Apr    0.227  \n",
       "4       0.0456  140.576         04-Apr    0.390  "
      ]
     },
     "execution_count": 29,
     "metadata": {},
     "output_type": "execute_result"
    }
   ],
   "source": [
    "df_spotfeatures.head()"
   ]
  },
  {
   "cell_type": "markdown",
   "id": "b6736429",
   "metadata": {
    "papermill": {
     "duration": 0.045557,
     "end_time": "2022-04-20T20:11:04.461196",
     "exception": false,
     "start_time": "2022-04-20T20:11:04.415639",
     "status": "completed"
    },
    "tags": []
   },
   "source": [
    "## Spotify Tracks Dataset Analysis"
   ]
  },
  {
   "cell_type": "code",
   "execution_count": 30,
   "id": "d77d0f10",
   "metadata": {
    "execution": {
     "iopub.execute_input": "2022-04-20T20:11:04.544265Z",
     "iopub.status.busy": "2022-04-20T20:11:04.543506Z",
     "iopub.status.idle": "2022-04-20T20:11:04.88516Z",
     "shell.execute_reply": "2022-04-20T20:11:04.884179Z"
    },
    "papermill": {
     "duration": 0.383878,
     "end_time": "2022-04-20T20:11:04.887577",
     "exception": false,
     "start_time": "2022-04-20T20:11:04.503699",
     "status": "completed"
    },
    "tags": []
   },
   "outputs": [
    {
     "data": {
      "text/plain": [
       "Column1             934575\n",
       "track_id            934575\n",
       "artists             934576\n",
       "album_name          934576\n",
       "track_name          934576\n",
       "popularity          934575\n",
       "duration_ms         934575\n",
       "explicit            934575\n",
       "danceability        934575\n",
       "energy              934575\n",
       "key                 934575\n",
       "loudness            934575\n",
       "mode                934575\n",
       "speechiness         934575\n",
       "acousticness        934575\n",
       "instrumentalness    934575\n",
       "liveness            934575\n",
       "valence             934575\n",
       "tempo               934575\n",
       "time_signature      934575\n",
       "track_genre         934575\n",
       "year                     0\n",
       "release_date             0\n",
       "dtype: int64"
      ]
     },
     "execution_count": 30,
     "metadata": {},
     "output_type": "execute_result"
    }
   ],
   "source": [
    "# checking null values\n",
    "pd.isnull(df_tracks).sum()"
   ]
  },
  {
   "cell_type": "markdown",
   "id": "a2651d20",
   "metadata": {
    "papermill": {
     "duration": 0.039492,
     "end_time": "2022-04-20T20:11:05.420425",
     "exception": false,
     "start_time": "2022-04-20T20:11:05.380933",
     "status": "completed"
    },
    "tags": []
   },
   "source": [
    "### Descriptive statistics of Spotify tracks"
   ]
  },
  {
   "cell_type": "code",
   "execution_count": 32,
   "id": "04d8f4eb",
   "metadata": {
    "execution": {
     "iopub.execute_input": "2022-04-20T20:11:05.500171Z",
     "iopub.status.busy": "2022-04-20T20:11:05.499537Z",
     "iopub.status.idle": "2022-04-20T20:11:05.982842Z",
     "shell.execute_reply": "2022-04-20T20:11:05.981886Z"
    },
    "papermill": {
     "duration": 0.525553,
     "end_time": "2022-04-20T20:11:05.985239",
     "exception": false,
     "start_time": "2022-04-20T20:11:05.459686",
     "status": "completed"
    },
    "tags": []
   },
   "outputs": [
    {
     "data": {
      "text/html": [
       "<div>\n",
       "<style scoped>\n",
       "    .dataframe tbody tr th:only-of-type {\n",
       "        vertical-align: middle;\n",
       "    }\n",
       "\n",
       "    .dataframe tbody tr th {\n",
       "        vertical-align: top;\n",
       "    }\n",
       "\n",
       "    .dataframe thead th {\n",
       "        text-align: right;\n",
       "    }\n",
       "</style>\n",
       "<table border=\"1\" class=\"dataframe\">\n",
       "  <thead>\n",
       "    <tr style=\"text-align: right;\">\n",
       "      <th></th>\n",
       "      <th>count</th>\n",
       "      <th>mean</th>\n",
       "      <th>std</th>\n",
       "      <th>min</th>\n",
       "      <th>25%</th>\n",
       "      <th>50%</th>\n",
       "      <th>75%</th>\n",
       "      <th>max</th>\n",
       "    </tr>\n",
       "  </thead>\n",
       "  <tbody>\n",
       "    <tr>\n",
       "      <th>Column1</th>\n",
       "      <td>114000.0</td>\n",
       "      <td>56999.500000</td>\n",
       "      <td>32909.109681</td>\n",
       "      <td>0.000</td>\n",
       "      <td>28499.75000</td>\n",
       "      <td>56999.500000</td>\n",
       "      <td>85499.2500</td>\n",
       "      <td>113999.000</td>\n",
       "    </tr>\n",
       "    <tr>\n",
       "      <th>popularity</th>\n",
       "      <td>114000.0</td>\n",
       "      <td>33.238535</td>\n",
       "      <td>22.305078</td>\n",
       "      <td>0.000</td>\n",
       "      <td>17.00000</td>\n",
       "      <td>35.000000</td>\n",
       "      <td>50.0000</td>\n",
       "      <td>100.000</td>\n",
       "    </tr>\n",
       "    <tr>\n",
       "      <th>duration_ms</th>\n",
       "      <td>114000.0</td>\n",
       "      <td>228029.153114</td>\n",
       "      <td>107297.712645</td>\n",
       "      <td>0.000</td>\n",
       "      <td>174066.00000</td>\n",
       "      <td>212906.000000</td>\n",
       "      <td>261506.0000</td>\n",
       "      <td>5237295.000</td>\n",
       "    </tr>\n",
       "    <tr>\n",
       "      <th>danceability</th>\n",
       "      <td>114000.0</td>\n",
       "      <td>0.566800</td>\n",
       "      <td>0.173542</td>\n",
       "      <td>0.000</td>\n",
       "      <td>0.45600</td>\n",
       "      <td>0.580000</td>\n",
       "      <td>0.6950</td>\n",
       "      <td>0.985</td>\n",
       "    </tr>\n",
       "    <tr>\n",
       "      <th>energy</th>\n",
       "      <td>114000.0</td>\n",
       "      <td>0.641383</td>\n",
       "      <td>0.251529</td>\n",
       "      <td>0.000</td>\n",
       "      <td>0.47200</td>\n",
       "      <td>0.685000</td>\n",
       "      <td>0.8540</td>\n",
       "      <td>1.000</td>\n",
       "    </tr>\n",
       "    <tr>\n",
       "      <th>key</th>\n",
       "      <td>114000.0</td>\n",
       "      <td>5.309140</td>\n",
       "      <td>3.559987</td>\n",
       "      <td>0.000</td>\n",
       "      <td>2.00000</td>\n",
       "      <td>5.000000</td>\n",
       "      <td>8.0000</td>\n",
       "      <td>11.000</td>\n",
       "    </tr>\n",
       "    <tr>\n",
       "      <th>loudness</th>\n",
       "      <td>114000.0</td>\n",
       "      <td>-8.258960</td>\n",
       "      <td>5.029337</td>\n",
       "      <td>-49.531</td>\n",
       "      <td>-10.01300</td>\n",
       "      <td>-7.004000</td>\n",
       "      <td>-5.0030</td>\n",
       "      <td>4.532</td>\n",
       "    </tr>\n",
       "    <tr>\n",
       "      <th>mode</th>\n",
       "      <td>114000.0</td>\n",
       "      <td>0.637553</td>\n",
       "      <td>0.480709</td>\n",
       "      <td>0.000</td>\n",
       "      <td>0.00000</td>\n",
       "      <td>1.000000</td>\n",
       "      <td>1.0000</td>\n",
       "      <td>1.000</td>\n",
       "    </tr>\n",
       "    <tr>\n",
       "      <th>speechiness</th>\n",
       "      <td>114000.0</td>\n",
       "      <td>0.084652</td>\n",
       "      <td>0.105732</td>\n",
       "      <td>0.000</td>\n",
       "      <td>0.03590</td>\n",
       "      <td>0.048900</td>\n",
       "      <td>0.0845</td>\n",
       "      <td>0.965</td>\n",
       "    </tr>\n",
       "    <tr>\n",
       "      <th>acousticness</th>\n",
       "      <td>114000.0</td>\n",
       "      <td>0.314910</td>\n",
       "      <td>0.332523</td>\n",
       "      <td>0.000</td>\n",
       "      <td>0.01690</td>\n",
       "      <td>0.169000</td>\n",
       "      <td>0.5980</td>\n",
       "      <td>0.996</td>\n",
       "    </tr>\n",
       "    <tr>\n",
       "      <th>instrumentalness</th>\n",
       "      <td>114000.0</td>\n",
       "      <td>0.156050</td>\n",
       "      <td>0.309555</td>\n",
       "      <td>0.000</td>\n",
       "      <td>0.00000</td>\n",
       "      <td>0.000042</td>\n",
       "      <td>0.0490</td>\n",
       "      <td>1.000</td>\n",
       "    </tr>\n",
       "    <tr>\n",
       "      <th>liveness</th>\n",
       "      <td>114000.0</td>\n",
       "      <td>0.213553</td>\n",
       "      <td>0.190378</td>\n",
       "      <td>0.000</td>\n",
       "      <td>0.09800</td>\n",
       "      <td>0.132000</td>\n",
       "      <td>0.2730</td>\n",
       "      <td>1.000</td>\n",
       "    </tr>\n",
       "    <tr>\n",
       "      <th>valence</th>\n",
       "      <td>114000.0</td>\n",
       "      <td>0.474068</td>\n",
       "      <td>0.259261</td>\n",
       "      <td>0.000</td>\n",
       "      <td>0.26000</td>\n",
       "      <td>0.464000</td>\n",
       "      <td>0.6830</td>\n",
       "      <td>0.995</td>\n",
       "    </tr>\n",
       "    <tr>\n",
       "      <th>tempo</th>\n",
       "      <td>114000.0</td>\n",
       "      <td>122.147837</td>\n",
       "      <td>29.978197</td>\n",
       "      <td>0.000</td>\n",
       "      <td>99.21875</td>\n",
       "      <td>122.017000</td>\n",
       "      <td>140.0710</td>\n",
       "      <td>243.372</td>\n",
       "    </tr>\n",
       "    <tr>\n",
       "      <th>time_signature</th>\n",
       "      <td>114000.0</td>\n",
       "      <td>3.904035</td>\n",
       "      <td>0.432621</td>\n",
       "      <td>0.000</td>\n",
       "      <td>4.00000</td>\n",
       "      <td>4.000000</td>\n",
       "      <td>4.0000</td>\n",
       "      <td>5.000</td>\n",
       "    </tr>\n",
       "    <tr>\n",
       "      <th>year</th>\n",
       "      <td>1048575.0</td>\n",
       "      <td>2006.753055</td>\n",
       "      <td>12.077592</td>\n",
       "      <td>0.000</td>\n",
       "      <td>2002.00000</td>\n",
       "      <td>2008.000000</td>\n",
       "      <td>2014.0000</td>\n",
       "      <td>2020.000</td>\n",
       "    </tr>\n",
       "  </tbody>\n",
       "</table>\n",
       "</div>"
      ],
      "text/plain": [
       "                      count           mean            std     min  \\\n",
       "Column1            114000.0   56999.500000   32909.109681   0.000   \n",
       "popularity         114000.0      33.238535      22.305078   0.000   \n",
       "duration_ms        114000.0  228029.153114  107297.712645   0.000   \n",
       "danceability       114000.0       0.566800       0.173542   0.000   \n",
       "energy             114000.0       0.641383       0.251529   0.000   \n",
       "key                114000.0       5.309140       3.559987   0.000   \n",
       "loudness           114000.0      -8.258960       5.029337 -49.531   \n",
       "mode               114000.0       0.637553       0.480709   0.000   \n",
       "speechiness        114000.0       0.084652       0.105732   0.000   \n",
       "acousticness       114000.0       0.314910       0.332523   0.000   \n",
       "instrumentalness   114000.0       0.156050       0.309555   0.000   \n",
       "liveness           114000.0       0.213553       0.190378   0.000   \n",
       "valence            114000.0       0.474068       0.259261   0.000   \n",
       "tempo              114000.0     122.147837      29.978197   0.000   \n",
       "time_signature     114000.0       3.904035       0.432621   0.000   \n",
       "year              1048575.0    2006.753055      12.077592   0.000   \n",
       "\n",
       "                           25%            50%          75%          max  \n",
       "Column1            28499.75000   56999.500000   85499.2500   113999.000  \n",
       "popularity            17.00000      35.000000      50.0000      100.000  \n",
       "duration_ms       174066.00000  212906.000000  261506.0000  5237295.000  \n",
       "danceability           0.45600       0.580000       0.6950        0.985  \n",
       "energy                 0.47200       0.685000       0.8540        1.000  \n",
       "key                    2.00000       5.000000       8.0000       11.000  \n",
       "loudness             -10.01300      -7.004000      -5.0030        4.532  \n",
       "mode                   0.00000       1.000000       1.0000        1.000  \n",
       "speechiness            0.03590       0.048900       0.0845        0.965  \n",
       "acousticness           0.01690       0.169000       0.5980        0.996  \n",
       "instrumentalness       0.00000       0.000042       0.0490        1.000  \n",
       "liveness               0.09800       0.132000       0.2730        1.000  \n",
       "valence                0.26000       0.464000       0.6830        0.995  \n",
       "tempo                 99.21875     122.017000     140.0710      243.372  \n",
       "time_signature         4.00000       4.000000       4.0000        5.000  \n",
       "year                2002.00000    2008.000000    2014.0000     2020.000  "
      ]
     },
     "execution_count": 32,
     "metadata": {},
     "output_type": "execute_result"
    }
   ],
   "source": [
    "df_tracks.describe().transpose()"
   ]
  },
  {
   "cell_type": "markdown",
   "id": "05b06e21",
   "metadata": {
    "papermill": {
     "duration": 0.038943,
     "end_time": "2022-04-20T20:11:06.065435",
     "exception": false,
     "start_time": "2022-04-20T20:11:06.026492",
     "status": "completed"
    },
    "tags": []
   },
   "source": [
    "### Top 5 most popular songs on Spotify"
   ]
  },
  {
   "cell_type": "code",
   "execution_count": 103,
   "id": "92615ecf",
   "metadata": {
    "execution": {
     "iopub.execute_input": "2022-04-20T20:11:06.1442Z",
     "iopub.status.busy": "2022-04-20T20:11:06.143663Z",
     "iopub.status.idle": "2022-04-20T20:11:06.181308Z",
     "shell.execute_reply": "2022-04-20T20:11:06.180186Z"
    },
    "papermill": {
     "duration": 0.079904,
     "end_time": "2022-04-20T20:11:06.183708",
     "exception": false,
     "start_time": "2022-04-20T20:11:06.103804",
     "status": "completed"
    },
    "tags": []
   },
   "outputs": [
    {
     "data": {
      "text/html": [
       "<div>\n",
       "<style scoped>\n",
       "    .dataframe tbody tr th:only-of-type {\n",
       "        vertical-align: middle;\n",
       "    }\n",
       "\n",
       "    .dataframe tbody tr th {\n",
       "        vertical-align: top;\n",
       "    }\n",
       "\n",
       "    .dataframe thead th {\n",
       "        text-align: right;\n",
       "    }\n",
       "</style>\n",
       "<table border=\"1\" class=\"dataframe\">\n",
       "  <thead>\n",
       "    <tr style=\"text-align: right;\">\n",
       "      <th></th>\n",
       "      <th>Column1</th>\n",
       "      <th>track_id</th>\n",
       "      <th>artists</th>\n",
       "      <th>album_name</th>\n",
       "      <th>track_name</th>\n",
       "      <th>popularity</th>\n",
       "      <th>explicit</th>\n",
       "      <th>danceability</th>\n",
       "      <th>energy</th>\n",
       "      <th>key</th>\n",
       "      <th>...</th>\n",
       "      <th>acousticness</th>\n",
       "      <th>instrumentalness</th>\n",
       "      <th>liveness</th>\n",
       "      <th>valence</th>\n",
       "      <th>tempo</th>\n",
       "      <th>time_signature</th>\n",
       "      <th>track_genre</th>\n",
       "      <th>year</th>\n",
       "      <th>duration</th>\n",
       "      <th>dates</th>\n",
       "    </tr>\n",
       "    <tr>\n",
       "      <th>release_date</th>\n",
       "      <th></th>\n",
       "      <th></th>\n",
       "      <th></th>\n",
       "      <th></th>\n",
       "      <th></th>\n",
       "      <th></th>\n",
       "      <th></th>\n",
       "      <th></th>\n",
       "      <th></th>\n",
       "      <th></th>\n",
       "      <th></th>\n",
       "      <th></th>\n",
       "      <th></th>\n",
       "      <th></th>\n",
       "      <th></th>\n",
       "      <th></th>\n",
       "      <th></th>\n",
       "      <th></th>\n",
       "      <th></th>\n",
       "      <th></th>\n",
       "      <th></th>\n",
       "    </tr>\n",
       "  </thead>\n",
       "  <tbody>\n",
       "    <tr>\n",
       "      <th>27-05-1905</th>\n",
       "      <td>20001.0</td>\n",
       "      <td>3nqQXoyQOWXiESFLlDF1hG</td>\n",
       "      <td>Sam Smith;Kim Petras</td>\n",
       "      <td>Unholy (feat. Kim Petras)</td>\n",
       "      <td>Unholy (feat. Kim Petras)</td>\n",
       "      <td>100.0</td>\n",
       "      <td>False</td>\n",
       "      <td>0.714</td>\n",
       "      <td>0.472</td>\n",
       "      <td>2.0</td>\n",
       "      <td>...</td>\n",
       "      <td>0.01300</td>\n",
       "      <td>0.000005</td>\n",
       "      <td>0.266</td>\n",
       "      <td>0.238</td>\n",
       "      <td>131.121</td>\n",
       "      <td>4.0</td>\n",
       "      <td>dance</td>\n",
       "      <td>1974</td>\n",
       "      <td>156</td>\n",
       "      <td>27-05-1905</td>\n",
       "    </tr>\n",
       "    <tr>\n",
       "      <th>18-06-1905</th>\n",
       "      <td>81051.0</td>\n",
       "      <td>3nqQXoyQOWXiESFLlDF1hG</td>\n",
       "      <td>Sam Smith;Kim Petras</td>\n",
       "      <td>Unholy (feat. Kim Petras)</td>\n",
       "      <td>Unholy (feat. Kim Petras)</td>\n",
       "      <td>100.0</td>\n",
       "      <td>False</td>\n",
       "      <td>0.714</td>\n",
       "      <td>0.472</td>\n",
       "      <td>2.0</td>\n",
       "      <td>...</td>\n",
       "      <td>0.01300</td>\n",
       "      <td>0.000005</td>\n",
       "      <td>0.266</td>\n",
       "      <td>0.238</td>\n",
       "      <td>131.121</td>\n",
       "      <td>4.0</td>\n",
       "      <td>pop</td>\n",
       "      <td>1996</td>\n",
       "      <td>156</td>\n",
       "      <td>18-06-1905</td>\n",
       "    </tr>\n",
       "    <tr>\n",
       "      <th>25-06-1905</th>\n",
       "      <td>51664.0</td>\n",
       "      <td>2tTmW7RDtMQtBk7m2rYeSw</td>\n",
       "      <td>Bizarrap;Quevedo</td>\n",
       "      <td>Quevedo: Bzrp Music Sessions, Vol. 52</td>\n",
       "      <td>Quevedo: Bzrp Music Sessions, Vol. 52</td>\n",
       "      <td>99.0</td>\n",
       "      <td>False</td>\n",
       "      <td>0.621</td>\n",
       "      <td>0.782</td>\n",
       "      <td>2.0</td>\n",
       "      <td>...</td>\n",
       "      <td>0.01250</td>\n",
       "      <td>0.033000</td>\n",
       "      <td>0.230</td>\n",
       "      <td>0.550</td>\n",
       "      <td>128.033</td>\n",
       "      <td>4.0</td>\n",
       "      <td>hip-hop</td>\n",
       "      <td>2003</td>\n",
       "      <td>198</td>\n",
       "      <td>25-06-1905</td>\n",
       "    </tr>\n",
       "    <tr>\n",
       "      <th>28-08-2012</th>\n",
       "      <td>81210.0</td>\n",
       "      <td>4uUG5RXrOk84mYEfFvj3cK</td>\n",
       "      <td>David Guetta;Bebe Rexha</td>\n",
       "      <td>I'm Good (Blue)</td>\n",
       "      <td>I'm Good (Blue)</td>\n",
       "      <td>98.0</td>\n",
       "      <td>True</td>\n",
       "      <td>0.561</td>\n",
       "      <td>0.965</td>\n",
       "      <td>7.0</td>\n",
       "      <td>...</td>\n",
       "      <td>0.00383</td>\n",
       "      <td>0.000007</td>\n",
       "      <td>0.371</td>\n",
       "      <td>0.304</td>\n",
       "      <td>128.040</td>\n",
       "      <td>4.0</td>\n",
       "      <td>pop</td>\n",
       "      <td>2012</td>\n",
       "      <td>175</td>\n",
       "      <td>28-08-2012</td>\n",
       "    </tr>\n",
       "    <tr>\n",
       "      <th>01-01-2006</th>\n",
       "      <td>89411.0</td>\n",
       "      <td>5ww2BF9slyYgNOk37BlC4u</td>\n",
       "      <td>Manuel Turizo</td>\n",
       "      <td>La Bachata</td>\n",
       "      <td>La Bachata</td>\n",
       "      <td>98.0</td>\n",
       "      <td>False</td>\n",
       "      <td>0.835</td>\n",
       "      <td>0.679</td>\n",
       "      <td>7.0</td>\n",
       "      <td>...</td>\n",
       "      <td>0.58300</td>\n",
       "      <td>0.000002</td>\n",
       "      <td>0.218</td>\n",
       "      <td>0.850</td>\n",
       "      <td>124.980</td>\n",
       "      <td>4.0</td>\n",
       "      <td>reggaeton</td>\n",
       "      <td>2006</td>\n",
       "      <td>162</td>\n",
       "      <td>01-01-2006</td>\n",
       "    </tr>\n",
       "  </tbody>\n",
       "</table>\n",
       "<p>5 rows × 23 columns</p>\n",
       "</div>"
      ],
      "text/plain": [
       "              Column1                track_id                  artists  \\\n",
       "release_date                                                             \n",
       "27-05-1905    20001.0  3nqQXoyQOWXiESFLlDF1hG     Sam Smith;Kim Petras   \n",
       "18-06-1905    81051.0  3nqQXoyQOWXiESFLlDF1hG     Sam Smith;Kim Petras   \n",
       "25-06-1905    51664.0  2tTmW7RDtMQtBk7m2rYeSw         Bizarrap;Quevedo   \n",
       "28-08-2012    81210.0  4uUG5RXrOk84mYEfFvj3cK  David Guetta;Bebe Rexha   \n",
       "01-01-2006    89411.0  5ww2BF9slyYgNOk37BlC4u            Manuel Turizo   \n",
       "\n",
       "                                         album_name  \\\n",
       "release_date                                          \n",
       "27-05-1905                Unholy (feat. Kim Petras)   \n",
       "18-06-1905                Unholy (feat. Kim Petras)   \n",
       "25-06-1905    Quevedo: Bzrp Music Sessions, Vol. 52   \n",
       "28-08-2012                          I'm Good (Blue)   \n",
       "01-01-2006                               La Bachata   \n",
       "\n",
       "                                         track_name  popularity explicit  \\\n",
       "release_date                                                               \n",
       "27-05-1905                Unholy (feat. Kim Petras)       100.0    False   \n",
       "18-06-1905                Unholy (feat. Kim Petras)       100.0    False   \n",
       "25-06-1905    Quevedo: Bzrp Music Sessions, Vol. 52        99.0    False   \n",
       "28-08-2012                          I'm Good (Blue)        98.0     True   \n",
       "01-01-2006                               La Bachata        98.0    False   \n",
       "\n",
       "              danceability  energy  key  ...  acousticness  instrumentalness  \\\n",
       "release_date                             ...                                   \n",
       "27-05-1905           0.714   0.472  2.0  ...       0.01300          0.000005   \n",
       "18-06-1905           0.714   0.472  2.0  ...       0.01300          0.000005   \n",
       "25-06-1905           0.621   0.782  2.0  ...       0.01250          0.033000   \n",
       "28-08-2012           0.561   0.965  7.0  ...       0.00383          0.000007   \n",
       "01-01-2006           0.835   0.679  7.0  ...       0.58300          0.000002   \n",
       "\n",
       "              liveness  valence    tempo  time_signature  track_genre  year  \\\n",
       "release_date                                                                  \n",
       "27-05-1905       0.266    0.238  131.121             4.0        dance  1974   \n",
       "18-06-1905       0.266    0.238  131.121             4.0          pop  1996   \n",
       "25-06-1905       0.230    0.550  128.033             4.0      hip-hop  2003   \n",
       "28-08-2012       0.371    0.304  128.040             4.0          pop  2012   \n",
       "01-01-2006       0.218    0.850  124.980             4.0    reggaeton  2006   \n",
       "\n",
       "              duration       dates  \n",
       "release_date                        \n",
       "27-05-1905         156  27-05-1905  \n",
       "18-06-1905         156  18-06-1905  \n",
       "25-06-1905         198  25-06-1905  \n",
       "28-08-2012         175  28-08-2012  \n",
       "01-01-2006         162  01-01-2006  \n",
       "\n",
       "[5 rows x 23 columns]"
      ]
     },
     "execution_count": 103,
     "metadata": {},
     "output_type": "execute_result"
    }
   ],
   "source": [
    "df_most = df_tracks.query('popularity > 90', inplace = False).sort_values('popularity', ascending = False)\n",
    "df_most[:5]"
   ]
  },
  {
   "cell_type": "markdown",
   "id": "32328afb",
   "metadata": {
    "papermill": {
     "duration": 0.042191,
     "end_time": "2022-04-20T20:11:06.266671",
     "exception": false,
     "start_time": "2022-04-20T20:11:06.22448",
     "status": "completed"
    },
    "tags": []
   },
   "source": [
    "### Top 5 least popular songs on Spotify"
   ]
  },
  {
   "cell_type": "code",
   "execution_count": 105,
   "id": "a9550dc5",
   "metadata": {
    "execution": {
     "iopub.execute_input": "2022-04-20T20:11:06.351841Z",
     "iopub.status.busy": "2022-04-20T20:11:06.350798Z",
     "iopub.status.idle": "2022-04-20T20:11:06.621038Z",
     "shell.execute_reply": "2022-04-20T20:11:06.620071Z"
    },
    "papermill": {
     "duration": 0.315104,
     "end_time": "2022-04-20T20:11:06.623688",
     "exception": false,
     "start_time": "2022-04-20T20:11:06.308584",
     "status": "completed"
    },
    "tags": []
   },
   "outputs": [
    {
     "data": {
      "text/html": [
       "<div>\n",
       "<style scoped>\n",
       "    .dataframe tbody tr th:only-of-type {\n",
       "        vertical-align: middle;\n",
       "    }\n",
       "\n",
       "    .dataframe tbody tr th {\n",
       "        vertical-align: top;\n",
       "    }\n",
       "\n",
       "    .dataframe thead th {\n",
       "        text-align: right;\n",
       "    }\n",
       "</style>\n",
       "<table border=\"1\" class=\"dataframe\">\n",
       "  <thead>\n",
       "    <tr style=\"text-align: right;\">\n",
       "      <th></th>\n",
       "      <th>Column1</th>\n",
       "      <th>track_id</th>\n",
       "      <th>artists</th>\n",
       "      <th>album_name</th>\n",
       "      <th>track_name</th>\n",
       "      <th>popularity</th>\n",
       "      <th>explicit</th>\n",
       "      <th>danceability</th>\n",
       "      <th>energy</th>\n",
       "      <th>key</th>\n",
       "      <th>...</th>\n",
       "      <th>acousticness</th>\n",
       "      <th>instrumentalness</th>\n",
       "      <th>liveness</th>\n",
       "      <th>valence</th>\n",
       "      <th>tempo</th>\n",
       "      <th>time_signature</th>\n",
       "      <th>track_genre</th>\n",
       "      <th>year</th>\n",
       "      <th>duration</th>\n",
       "      <th>dates</th>\n",
       "    </tr>\n",
       "    <tr>\n",
       "      <th>release_date</th>\n",
       "      <th></th>\n",
       "      <th></th>\n",
       "      <th></th>\n",
       "      <th></th>\n",
       "      <th></th>\n",
       "      <th></th>\n",
       "      <th></th>\n",
       "      <th></th>\n",
       "      <th></th>\n",
       "      <th></th>\n",
       "      <th></th>\n",
       "      <th></th>\n",
       "      <th></th>\n",
       "      <th></th>\n",
       "      <th></th>\n",
       "      <th></th>\n",
       "      <th></th>\n",
       "      <th></th>\n",
       "      <th></th>\n",
       "      <th></th>\n",
       "      <th></th>\n",
       "    </tr>\n",
       "  </thead>\n",
       "  <tbody>\n",
       "    <tr>\n",
       "      <th>01-01-2006</th>\n",
       "      <td>105411.0</td>\n",
       "      <td>3woe4qDqwttRfw1fSd5ZBk</td>\n",
       "      <td>Smartface;Toby Tranter</td>\n",
       "      <td>Push It</td>\n",
       "      <td>Mad Zach</td>\n",
       "      <td>29.0</td>\n",
       "      <td>False</td>\n",
       "      <td>0.654</td>\n",
       "      <td>0.509</td>\n",
       "      <td>5.0</td>\n",
       "      <td>...</td>\n",
       "      <td>0.54900</td>\n",
       "      <td>0.861000</td>\n",
       "      <td>0.1120</td>\n",
       "      <td>0.508</td>\n",
       "      <td>146.983</td>\n",
       "      <td>4.0</td>\n",
       "      <td>study</td>\n",
       "      <td>2006</td>\n",
       "      <td>146</td>\n",
       "      <td>01-01-2006</td>\n",
       "    </tr>\n",
       "    <tr>\n",
       "      <th>15-06-1905</th>\n",
       "      <td>113416.0</td>\n",
       "      <td>54swLoNkqkw4yMjkMVQtRN</td>\n",
       "      <td>Hillsong Worship;Delirious?</td>\n",
       "      <td>[UP] UNIFIED:PRAISE (Live)</td>\n",
       "      <td>Majesty (Here I Am)</td>\n",
       "      <td>29.0</td>\n",
       "      <td>False</td>\n",
       "      <td>0.501</td>\n",
       "      <td>0.641</td>\n",
       "      <td>1.0</td>\n",
       "      <td>...</td>\n",
       "      <td>0.00111</td>\n",
       "      <td>0.000001</td>\n",
       "      <td>0.0686</td>\n",
       "      <td>0.281</td>\n",
       "      <td>142.062</td>\n",
       "      <td>4.0</td>\n",
       "      <td>world-music</td>\n",
       "      <td>1993</td>\n",
       "      <td>366</td>\n",
       "      <td>15-06-1905</td>\n",
       "    </tr>\n",
       "    <tr>\n",
       "      <th>01-01-2003</th>\n",
       "      <td>90926.0</td>\n",
       "      <td>0S80vrUvbnoOlPVFAjesGc</td>\n",
       "      <td>Alberto Vazquez</td>\n",
       "      <td>Cosas de Alberto Vázquez</td>\n",
       "      <td>Creo Estar Soñando</td>\n",
       "      <td>29.0</td>\n",
       "      <td>False</td>\n",
       "      <td>0.495</td>\n",
       "      <td>0.275</td>\n",
       "      <td>4.0</td>\n",
       "      <td>...</td>\n",
       "      <td>0.60100</td>\n",
       "      <td>0.000000</td>\n",
       "      <td>0.1120</td>\n",
       "      <td>0.517</td>\n",
       "      <td>180.666</td>\n",
       "      <td>4.0</td>\n",
       "      <td>rock-n-roll</td>\n",
       "      <td>2003</td>\n",
       "      <td>163</td>\n",
       "      <td>01-01-2003</td>\n",
       "    </tr>\n",
       "    <tr>\n",
       "      <th>22-06-1905</th>\n",
       "      <td>113448.0</td>\n",
       "      <td>0lSwLhBarLwM5XTFmBc8ri</td>\n",
       "      <td>Planetshakers</td>\n",
       "      <td>Nada Es Imposible</td>\n",
       "      <td>Todo mundo de Pie</td>\n",
       "      <td>29.0</td>\n",
       "      <td>False</td>\n",
       "      <td>0.620</td>\n",
       "      <td>0.900</td>\n",
       "      <td>7.0</td>\n",
       "      <td>...</td>\n",
       "      <td>0.00332</td>\n",
       "      <td>0.000000</td>\n",
       "      <td>0.0118</td>\n",
       "      <td>0.706</td>\n",
       "      <td>129.999</td>\n",
       "      <td>4.0</td>\n",
       "      <td>world-music</td>\n",
       "      <td>2000</td>\n",
       "      <td>239</td>\n",
       "      <td>22-06-1905</td>\n",
       "    </tr>\n",
       "    <tr>\n",
       "      <th>01-01-2003</th>\n",
       "      <td>90931.0</td>\n",
       "      <td>3QslWf6jjw6f0by37Zrupd</td>\n",
       "      <td>Frankie Avalon</td>\n",
       "      <td>Venus</td>\n",
       "      <td>Bobby Sox to Stockings</td>\n",
       "      <td>29.0</td>\n",
       "      <td>False</td>\n",
       "      <td>0.608</td>\n",
       "      <td>0.405</td>\n",
       "      <td>7.0</td>\n",
       "      <td>...</td>\n",
       "      <td>0.78100</td>\n",
       "      <td>0.000000</td>\n",
       "      <td>0.2630</td>\n",
       "      <td>0.617</td>\n",
       "      <td>117.758</td>\n",
       "      <td>4.0</td>\n",
       "      <td>rock-n-roll</td>\n",
       "      <td>2003</td>\n",
       "      <td>159</td>\n",
       "      <td>01-01-2003</td>\n",
       "    </tr>\n",
       "  </tbody>\n",
       "</table>\n",
       "<p>5 rows × 23 columns</p>\n",
       "</div>"
      ],
      "text/plain": [
       "               Column1                track_id                      artists  \\\n",
       "release_date                                                                  \n",
       "01-01-2006    105411.0  3woe4qDqwttRfw1fSd5ZBk       Smartface;Toby Tranter   \n",
       "15-06-1905    113416.0  54swLoNkqkw4yMjkMVQtRN  Hillsong Worship;Delirious?   \n",
       "01-01-2003     90926.0  0S80vrUvbnoOlPVFAjesGc              Alberto Vazquez   \n",
       "22-06-1905    113448.0  0lSwLhBarLwM5XTFmBc8ri                Planetshakers   \n",
       "01-01-2003     90931.0  3QslWf6jjw6f0by37Zrupd               Frankie Avalon   \n",
       "\n",
       "                              album_name              track_name  popularity  \\\n",
       "release_date                                                                   \n",
       "01-01-2006                       Push It                Mad Zach        29.0   \n",
       "15-06-1905    [UP] UNIFIED:PRAISE (Live)     Majesty (Here I Am)        29.0   \n",
       "01-01-2003      Cosas de Alberto Vázquez      Creo Estar Soñando        29.0   \n",
       "22-06-1905             Nada Es Imposible       Todo mundo de Pie        29.0   \n",
       "01-01-2003                         Venus  Bobby Sox to Stockings        29.0   \n",
       "\n",
       "             explicit  danceability  energy  key  ...  acousticness  \\\n",
       "release_date                                      ...                 \n",
       "01-01-2006      False         0.654   0.509  5.0  ...       0.54900   \n",
       "15-06-1905      False         0.501   0.641  1.0  ...       0.00111   \n",
       "01-01-2003      False         0.495   0.275  4.0  ...       0.60100   \n",
       "22-06-1905      False         0.620   0.900  7.0  ...       0.00332   \n",
       "01-01-2003      False         0.608   0.405  7.0  ...       0.78100   \n",
       "\n",
       "              instrumentalness  liveness  valence    tempo  time_signature  \\\n",
       "release_date                                                                 \n",
       "01-01-2006            0.861000    0.1120    0.508  146.983             4.0   \n",
       "15-06-1905            0.000001    0.0686    0.281  142.062             4.0   \n",
       "01-01-2003            0.000000    0.1120    0.517  180.666             4.0   \n",
       "22-06-1905            0.000000    0.0118    0.706  129.999             4.0   \n",
       "01-01-2003            0.000000    0.2630    0.617  117.758             4.0   \n",
       "\n",
       "              track_genre  year  duration       dates  \n",
       "release_date                                           \n",
       "01-01-2006          study  2006       146  01-01-2006  \n",
       "15-06-1905    world-music  1993       366  15-06-1905  \n",
       "01-01-2003    rock-n-roll  2003       163  01-01-2003  \n",
       "22-06-1905    world-music  2000       239  22-06-1905  \n",
       "01-01-2003    rock-n-roll  2003       159  01-01-2003  \n",
       "\n",
       "[5 rows x 23 columns]"
      ]
     },
     "execution_count": 105,
     "metadata": {},
     "output_type": "execute_result"
    }
   ],
   "source": [
    "df_least = df_tracks.query('popularity < 30', inplace = False).sort_values('popularity', ascending = False)\n",
    "df_least[:5]"
   ]
  },
  {
   "cell_type": "markdown",
   "id": "162bb50b",
   "metadata": {
    "papermill": {
     "duration": 0.040551,
     "end_time": "2022-04-20T20:11:06.704958",
     "exception": false,
     "start_time": "2022-04-20T20:11:06.664407",
     "status": "completed"
    },
    "tags": []
   },
   "source": [
    "### Changing index to release date"
   ]
  },
  {
   "cell_type": "markdown",
   "id": "56a6d8a6",
   "metadata": {
    "papermill": {
     "duration": 0.042687,
     "end_time": "2022-04-20T20:11:07.064076",
     "exception": false,
     "start_time": "2022-04-20T20:11:07.021389",
     "status": "completed"
    },
    "tags": []
   },
   "source": [
    "### Searching specific artist by row of Spotify Tracks Dataset"
   ]
  },
  {
   "cell_type": "code",
   "execution_count": null,
   "id": "9f9d3924",
   "metadata": {},
   "outputs": [],
   "source": [
    "df_tracks.set_index('release_date',inplace=True)\n",
    "df_tracks.index= pd.to_datetime(df_tracks.index)\n",
    "df_tracks.head()"
   ]
  },
  {
   "cell_type": "code",
   "execution_count": 44,
   "id": "4d3ad50d",
   "metadata": {
    "execution": {
     "iopub.execute_input": "2022-04-20T20:11:07.15115Z",
     "iopub.status.busy": "2022-04-20T20:11:07.150433Z",
     "iopub.status.idle": "2022-04-20T20:11:07.406277Z",
     "shell.execute_reply": "2022-04-20T20:11:07.405541Z"
    },
    "papermill": {
     "duration": 0.30121,
     "end_time": "2022-04-20T20:11:07.408379",
     "exception": false,
     "start_time": "2022-04-20T20:11:07.107169",
     "status": "completed"
    },
    "tags": []
   },
   "outputs": [
    {
     "data": {
      "text/plain": [
       "artists    Jason Mraz\n",
       "Name: 02-11-1999, dtype: object"
      ]
     },
     "execution_count": 44,
     "metadata": {},
     "output_type": "execute_result"
    }
   ],
   "source": [
    "df_tracks[['artists']].iloc[11]"
   ]
  },
  {
   "cell_type": "code",
   "execution_count": 47,
   "id": "3a0b2271",
   "metadata": {},
   "outputs": [
    {
     "name": "stdout",
     "output_type": "stream",
     "text": [
      "<class 'pandas.core.frame.DataFrame'>\n",
      "Index: 1048575 entries, 02-11-1999 to 20-01-2014\n",
      "Data columns (total 22 columns):\n",
      " #   Column            Non-Null Count    Dtype  \n",
      "---  ------            --------------    -----  \n",
      " 0   Column1           114000 non-null   float64\n",
      " 1   track_id          114000 non-null   object \n",
      " 2   artists           113999 non-null   object \n",
      " 3   album_name        113999 non-null   object \n",
      " 4   track_name        113999 non-null   object \n",
      " 5   popularity        114000 non-null   float64\n",
      " 6   duration_ms       114000 non-null   float64\n",
      " 7   explicit          114000 non-null   object \n",
      " 8   danceability      114000 non-null   float64\n",
      " 9   energy            114000 non-null   float64\n",
      " 10  key               114000 non-null   float64\n",
      " 11  loudness          114000 non-null   float64\n",
      " 12  mode              114000 non-null   float64\n",
      " 13  speechiness       114000 non-null   float64\n",
      " 14  acousticness      114000 non-null   float64\n",
      " 15  instrumentalness  114000 non-null   float64\n",
      " 16  liveness          114000 non-null   float64\n",
      " 17  valence           114000 non-null   float64\n",
      " 18  tempo             114000 non-null   float64\n",
      " 19  time_signature    114000 non-null   float64\n",
      " 20  track_genre       114000 non-null   object \n",
      " 21  year              1048575 non-null  int64  \n",
      "dtypes: float64(15), int64(1), object(6)\n",
      "memory usage: 184.0+ MB\n"
     ]
    }
   ],
   "source": [
    "df_tracks.info()"
   ]
  },
  {
   "cell_type": "markdown",
   "id": "907700ee",
   "metadata": {
    "papermill": {
     "duration": 0.046091,
     "end_time": "2022-04-20T20:11:07.499359",
     "exception": false,
     "start_time": "2022-04-20T20:11:07.453268",
     "status": "completed"
    },
    "tags": []
   },
   "source": [
    "### Converting duration from milli-seconds to seconds of Spotify Tracks Dataset"
   ]
  },
  {
   "cell_type": "code",
   "execution_count": 81,
   "id": "1a66752b",
   "metadata": {},
   "outputs": [
    {
     "data": {
      "text/plain": [
       "release_date\n",
       "02-11-1999    230\n",
       "02-11-1999    149\n",
       "02-11-1999    210\n",
       "02-11-1999    201\n",
       "02-11-1999    198\n",
       "Name: duration, dtype: int32"
      ]
     },
     "execution_count": 81,
     "metadata": {},
     "output_type": "execute_result"
    }
   ],
   "source": [
    "df_tracks['duration'] = df_tracks['duration'].astype(int)\n",
    "df_tracks.duration.head()"
   ]
  },
  {
   "cell_type": "markdown",
   "id": "2cc91424",
   "metadata": {
    "papermill": {
     "duration": 0.04499,
     "end_time": "2022-04-20T20:11:08.37821",
     "exception": false,
     "start_time": "2022-04-20T20:11:08.33322",
     "status": "completed"
    },
    "tags": []
   },
   "source": [
    "### Correlation Heatmap between Variable using Pearson correlation method"
   ]
  },
  {
   "cell_type": "code",
   "execution_count": 86,
   "id": "dfd32acd",
   "metadata": {
    "execution": {
     "iopub.execute_input": "2022-04-20T20:11:08.469005Z",
     "iopub.status.busy": "2022-04-20T20:11:08.468569Z",
     "iopub.status.idle": "2022-04-20T20:11:09.953639Z",
     "shell.execute_reply": "2022-04-20T20:11:09.952577Z"
    },
    "papermill": {
     "duration": 1.533563,
     "end_time": "2022-04-20T20:11:09.956872",
     "exception": false,
     "start_time": "2022-04-20T20:11:08.423309",
     "status": "completed"
    },
    "tags": []
   },
   "outputs": [
    {
     "name": "stderr",
     "output_type": "stream",
     "text": [
      "C:\\Users\\RAHUL RAJAN\\AppData\\Local\\Temp\\ipykernel_13912\\2007587498.py:1: FutureWarning: The default value of numeric_only in DataFrame.corr is deprecated. In a future version, it will default to False. Select only valid columns or specify the value of numeric_only to silence this warning.\n",
      "  corr_df = df_tracks.drop(['key','mode','explicit'], axis=1).corr(method = 'pearson')\n"
     ]
    },
    {
     "data": {
      "text/plain": [
       "[Text(0.5, 0, 'Column1'),\n",
       " Text(1.5, 0, 'popularity'),\n",
       " Text(2.5, 0, 'danceability'),\n",
       " Text(3.5, 0, 'energy'),\n",
       " Text(4.5, 0, 'loudness'),\n",
       " Text(5.5, 0, 'speechiness'),\n",
       " Text(6.5, 0, 'acousticness'),\n",
       " Text(7.5, 0, 'instrumentalness'),\n",
       " Text(8.5, 0, 'liveness'),\n",
       " Text(9.5, 0, 'valence'),\n",
       " Text(10.5, 0, 'tempo'),\n",
       " Text(11.5, 0, 'time_signature'),\n",
       " Text(12.5, 0, 'year'),\n",
       " Text(13.5, 0, 'duration')]"
      ]
     },
     "execution_count": 86,
     "metadata": {},
     "output_type": "execute_result"
    },
    {
     "data": {
      "image/png": "[encoded data removed]",
      "text/plain": [
       "<Figure size 1400x600 with 2 Axes>"
      ]
     },
     "metadata": {},
     "output_type": "display_data"
    }
   ],
   "source": [
    "corr_df = df_tracks.drop(['key','mode','explicit'], axis=1).corr(method = 'pearson')\n",
    "plt.figure(figsize=(14,6))\n",
    "map = sns.heatmap(corr_df, annot = True, fmt = '.1g', vmin=-1, vmax=1, center=0, cmap='inferno', linewidths=1, linecolor='Black')\n",
    "map.set_title('Correlation Heatmap between Variables')\n",
    "map.set_xticklabels(map.get_xticklabels(), rotation=90)"
   ]
  },
  {
   "cell_type": "code",
   "execution_count": null,
   "id": "facc7d08",
   "metadata": {},
   "outputs": [],
   "source": [
    "### Checking for total number of "
   ]
  },
  {
   "cell_type": "code",
   "execution_count": 95,
   "id": "5879f7a9",
   "metadata": {},
   "outputs": [
    {
     "name": "stdout",
     "output_type": "stream",
     "text": [
      "1048575\n"
     ]
    }
   ],
   "source": [
    "print(len(df_tracks))"
   ]
  },
  {
   "cell_type": "markdown",
   "id": "d81b6fd1",
   "metadata": {
    "papermill": {
     "duration": 0.045883,
     "end_time": "2022-04-20T20:11:10.049961",
     "exception": false,
     "start_time": "2022-04-20T20:11:10.004078",
     "status": "completed"
    },
    "tags": []
   },
   "source": [
    "### Considering 0.004% of the total dataset to create Regression plots"
   ]
  },
  {
   "cell_type": "code",
   "execution_count": 92,
   "id": "b71fa65c",
   "metadata": {
    "execution": {
     "iopub.execute_input": "2022-04-20T20:11:10.143677Z",
     "iopub.status.busy": "2022-04-20T20:11:10.142804Z",
     "iopub.status.idle": "2022-04-20T20:11:10.172304Z",
     "shell.execute_reply": "2022-04-20T20:11:10.171528Z"
    },
    "papermill": {
     "duration": 0.078571,
     "end_time": "2022-04-20T20:11:10.174308",
     "exception": false,
     "start_time": "2022-04-20T20:11:10.095737",
     "status": "completed"
    },
    "tags": []
   },
   "outputs": [
    {
     "data": {
      "text/plain": [
       "4194"
      ]
     },
     "execution_count": 92,
     "metadata": {},
     "output_type": "execute_result"
    }
   ],
   "source": [
    "df_sample = df_tracks.sample(int(0.004 * len(df_tracks)))\n",
    "len(df_sample)"
   ]
  },
  {
   "cell_type": "markdown",
   "id": "d7a4a3b9",
   "metadata": {
    "papermill": {
     "duration": 0.045819,
     "end_time": "2022-04-20T20:11:10.265526",
     "exception": false,
     "start_time": "2022-04-20T20:11:10.219707",
     "status": "completed"
    },
    "tags": []
   },
   "source": [
    "### Regression plot - Correlation between Loudness vs Energy"
   ]
  },
  {
   "cell_type": "code",
   "execution_count": 97,
   "id": "f26bf2db",
   "metadata": {
    "execution": {
     "iopub.execute_input": "2022-04-20T20:11:10.361652Z",
     "iopub.status.busy": "2022-04-20T20:11:10.36109Z",
     "iopub.status.idle": "2022-04-20T20:11:10.818495Z",
     "shell.execute_reply": "2022-04-20T20:11:10.817518Z"
    },
    "papermill": {
     "duration": 0.50927,
     "end_time": "2022-04-20T20:11:10.820753",
     "exception": false,
     "start_time": "2022-04-20T20:11:10.311483",
     "status": "completed"
    },
    "tags": []
   },
   "outputs": [
    {
     "data": {
      "text/plain": [
       "[Text(0.5, 1.0, 'Loudness vs Energy Correlation')]"
      ]
     },
     "execution_count": 97,
     "metadata": {},
     "output_type": "execute_result"
    },
    {
     "data": {
      "image/png": "[encoded data removed]",
      "text/plain": [
       "<Figure size 1000x600 with 1 Axes>"
      ]
     },
     "metadata": {},
     "output_type": "display_data"
    }
   ],
   "source": [
    "plt.figure(figsize=(10,6))\n",
    "sns.regplot(data=df_sample, y='loudness', x='energy', color='y').set(title='Loudness vs Energy Correlation')"
   ]
  },
  {
   "cell_type": "markdown",
   "id": "1640b222",
   "metadata": {
    "papermill": {
     "duration": 0.049118,
     "end_time": "2022-04-20T20:11:10.919754",
     "exception": false,
     "start_time": "2022-04-20T20:11:10.870636",
     "status": "completed"
    },
    "tags": []
   },
   "source": [
    "### Regression plot - Correlation between Popularity vs Acousticness"
   ]
  },
  {
   "cell_type": "code",
   "execution_count": 99,
   "id": "735ea505",
   "metadata": {
    "execution": {
     "iopub.execute_input": "2022-04-20T20:11:11.021666Z",
     "iopub.status.busy": "2022-04-20T20:11:11.020547Z",
     "iopub.status.idle": "2022-04-20T20:11:11.463511Z",
     "shell.execute_reply": "2022-04-20T20:11:11.462864Z"
    },
    "papermill": {
     "duration": 0.496321,
     "end_time": "2022-04-20T20:11:11.466213",
     "exception": false,
     "start_time": "2022-04-20T20:11:10.969892",
     "status": "completed"
    },
    "tags": []
   },
   "outputs": [
    {
     "data": {
      "text/plain": [
       "[Text(0.5, 1.0, 'Popularity vs Acousticness Correlation')]"
      ]
     },
     "execution_count": 99,
     "metadata": {},
     "output_type": "execute_result"
    },
    {
     "data": {
      "image/png": "[encoded data removed]",
      "text/plain": [
       "<Figure size 1000x600 with 1 Axes>"
      ]
     },
     "metadata": {},
     "output_type": "display_data"
    }
   ],
   "source": [
    "plt.figure(figsize=(10,6))\n",
    "sns.regplot(data=df_sample, y='popularity', x='acousticness', color='g').set(title='Popularity vs Acousticness Correlation')"
   ]
  },
  {
   "cell_type": "code",
   "execution_count": 114,
   "id": "214cdec4",
   "metadata": {},
   "outputs": [
    {
     "data": {
      "text/html": [
       "<div>\n",
       "<style scoped>\n",
       "    .dataframe tbody tr th:only-of-type {\n",
       "        vertical-align: middle;\n",
       "    }\n",
       "\n",
       "    .dataframe tbody tr th {\n",
       "        vertical-align: top;\n",
       "    }\n",
       "\n",
       "    .dataframe thead th {\n",
       "        text-align: right;\n",
       "    }\n",
       "</style>\n",
       "<table border=\"1\" class=\"dataframe\">\n",
       "  <thead>\n",
       "    <tr style=\"text-align: right;\">\n",
       "      <th></th>\n",
       "      <th>Column1</th>\n",
       "      <th>track_id</th>\n",
       "      <th>artists</th>\n",
       "      <th>album_name</th>\n",
       "      <th>track_name</th>\n",
       "      <th>popularity</th>\n",
       "      <th>explicit</th>\n",
       "      <th>danceability</th>\n",
       "      <th>energy</th>\n",
       "      <th>key</th>\n",
       "      <th>...</th>\n",
       "      <th>acousticness</th>\n",
       "      <th>instrumentalness</th>\n",
       "      <th>liveness</th>\n",
       "      <th>valence</th>\n",
       "      <th>tempo</th>\n",
       "      <th>time_signature</th>\n",
       "      <th>track_genre</th>\n",
       "      <th>year</th>\n",
       "      <th>duration</th>\n",
       "      <th>dates</th>\n",
       "    </tr>\n",
       "    <tr>\n",
       "      <th>release_date</th>\n",
       "      <th></th>\n",
       "      <th></th>\n",
       "      <th></th>\n",
       "      <th></th>\n",
       "      <th></th>\n",
       "      <th></th>\n",
       "      <th></th>\n",
       "      <th></th>\n",
       "      <th></th>\n",
       "      <th></th>\n",
       "      <th></th>\n",
       "      <th></th>\n",
       "      <th></th>\n",
       "      <th></th>\n",
       "      <th></th>\n",
       "      <th></th>\n",
       "      <th></th>\n",
       "      <th></th>\n",
       "      <th></th>\n",
       "      <th></th>\n",
       "      <th></th>\n",
       "    </tr>\n",
       "  </thead>\n",
       "  <tbody>\n",
       "    <tr>\n",
       "      <th>02-11-1999</th>\n",
       "      <td>0.0</td>\n",
       "      <td>5SuOikwiRyPMVoIQDJUgSV</td>\n",
       "      <td>Gen Hoshino</td>\n",
       "      <td>Comedy</td>\n",
       "      <td>Comedy</td>\n",
       "      <td>73.0</td>\n",
       "      <td>False</td>\n",
       "      <td>0.676</td>\n",
       "      <td>0.4610</td>\n",
       "      <td>1.0</td>\n",
       "      <td>...</td>\n",
       "      <td>0.0322</td>\n",
       "      <td>0.000001</td>\n",
       "      <td>0.3580</td>\n",
       "      <td>0.715</td>\n",
       "      <td>87.917</td>\n",
       "      <td>4.0</td>\n",
       "      <td>acoustic</td>\n",
       "      <td>1999</td>\n",
       "      <td>230</td>\n",
       "      <td>02-11-1999</td>\n",
       "    </tr>\n",
       "    <tr>\n",
       "      <th>02-11-1999</th>\n",
       "      <td>1.0</td>\n",
       "      <td>4qPNDBW1i3p13qLCt0Ki3A</td>\n",
       "      <td>Ben Woodward</td>\n",
       "      <td>Ghost (Acoustic)</td>\n",
       "      <td>Ghost - Acoustic</td>\n",
       "      <td>55.0</td>\n",
       "      <td>False</td>\n",
       "      <td>0.420</td>\n",
       "      <td>0.1660</td>\n",
       "      <td>1.0</td>\n",
       "      <td>...</td>\n",
       "      <td>0.9240</td>\n",
       "      <td>0.000006</td>\n",
       "      <td>0.1010</td>\n",
       "      <td>0.267</td>\n",
       "      <td>77.489</td>\n",
       "      <td>4.0</td>\n",
       "      <td>acoustic</td>\n",
       "      <td>1999</td>\n",
       "      <td>149</td>\n",
       "      <td>02-11-1999</td>\n",
       "    </tr>\n",
       "    <tr>\n",
       "      <th>02-11-1999</th>\n",
       "      <td>2.0</td>\n",
       "      <td>1iJBSr7s7jYXzM8EGcbK5b</td>\n",
       "      <td>Ingrid Michaelson;ZAYN</td>\n",
       "      <td>To Begin Again</td>\n",
       "      <td>To Begin Again</td>\n",
       "      <td>57.0</td>\n",
       "      <td>False</td>\n",
       "      <td>0.438</td>\n",
       "      <td>0.3590</td>\n",
       "      <td>0.0</td>\n",
       "      <td>...</td>\n",
       "      <td>0.2100</td>\n",
       "      <td>0.000000</td>\n",
       "      <td>0.1170</td>\n",
       "      <td>0.120</td>\n",
       "      <td>76.332</td>\n",
       "      <td>4.0</td>\n",
       "      <td>acoustic</td>\n",
       "      <td>1999</td>\n",
       "      <td>210</td>\n",
       "      <td>02-11-1999</td>\n",
       "    </tr>\n",
       "    <tr>\n",
       "      <th>02-11-1999</th>\n",
       "      <td>3.0</td>\n",
       "      <td>6lfxq3CG4xtTiEg7opyCyx</td>\n",
       "      <td>Kina Grannis</td>\n",
       "      <td>Crazy Rich Asians (Original Motion Picture Sou...</td>\n",
       "      <td>Can't Help Falling In Love</td>\n",
       "      <td>71.0</td>\n",
       "      <td>False</td>\n",
       "      <td>0.266</td>\n",
       "      <td>0.0596</td>\n",
       "      <td>0.0</td>\n",
       "      <td>...</td>\n",
       "      <td>0.9050</td>\n",
       "      <td>0.000071</td>\n",
       "      <td>0.1320</td>\n",
       "      <td>0.143</td>\n",
       "      <td>181.740</td>\n",
       "      <td>3.0</td>\n",
       "      <td>acoustic</td>\n",
       "      <td>1999</td>\n",
       "      <td>201</td>\n",
       "      <td>02-11-1999</td>\n",
       "    </tr>\n",
       "    <tr>\n",
       "      <th>02-11-1999</th>\n",
       "      <td>4.0</td>\n",
       "      <td>5vjLSffimiIP26QG5WcN2K</td>\n",
       "      <td>Chord Overstreet</td>\n",
       "      <td>Hold On</td>\n",
       "      <td>Hold On</td>\n",
       "      <td>82.0</td>\n",
       "      <td>False</td>\n",
       "      <td>0.618</td>\n",
       "      <td>0.4430</td>\n",
       "      <td>2.0</td>\n",
       "      <td>...</td>\n",
       "      <td>0.4690</td>\n",
       "      <td>0.000000</td>\n",
       "      <td>0.0829</td>\n",
       "      <td>0.167</td>\n",
       "      <td>119.949</td>\n",
       "      <td>4.0</td>\n",
       "      <td>acoustic</td>\n",
       "      <td>1999</td>\n",
       "      <td>198</td>\n",
       "      <td>02-11-1999</td>\n",
       "    </tr>\n",
       "  </tbody>\n",
       "</table>\n",
       "<p>5 rows × 23 columns</p>\n",
       "</div>"
      ],
      "text/plain": [
       "              Column1                track_id                 artists  \\\n",
       "release_date                                                            \n",
       "02-11-1999        0.0  5SuOikwiRyPMVoIQDJUgSV             Gen Hoshino   \n",
       "02-11-1999        1.0  4qPNDBW1i3p13qLCt0Ki3A            Ben Woodward   \n",
       "02-11-1999        2.0  1iJBSr7s7jYXzM8EGcbK5b  Ingrid Michaelson;ZAYN   \n",
       "02-11-1999        3.0  6lfxq3CG4xtTiEg7opyCyx            Kina Grannis   \n",
       "02-11-1999        4.0  5vjLSffimiIP26QG5WcN2K        Chord Overstreet   \n",
       "\n",
       "                                                     album_name  \\\n",
       "release_date                                                      \n",
       "02-11-1999                                               Comedy   \n",
       "02-11-1999                                     Ghost (Acoustic)   \n",
       "02-11-1999                                       To Begin Again   \n",
       "02-11-1999    Crazy Rich Asians (Original Motion Picture Sou...   \n",
       "02-11-1999                                              Hold On   \n",
       "\n",
       "                              track_name  popularity explicit  danceability  \\\n",
       "release_date                                                                  \n",
       "02-11-1999                        Comedy        73.0    False         0.676   \n",
       "02-11-1999              Ghost - Acoustic        55.0    False         0.420   \n",
       "02-11-1999                To Begin Again        57.0    False         0.438   \n",
       "02-11-1999    Can't Help Falling In Love        71.0    False         0.266   \n",
       "02-11-1999                       Hold On        82.0    False         0.618   \n",
       "\n",
       "              energy  key  ...  acousticness  instrumentalness  liveness  \\\n",
       "release_date               ...                                             \n",
       "02-11-1999    0.4610  1.0  ...        0.0322          0.000001    0.3580   \n",
       "02-11-1999    0.1660  1.0  ...        0.9240          0.000006    0.1010   \n",
       "02-11-1999    0.3590  0.0  ...        0.2100          0.000000    0.1170   \n",
       "02-11-1999    0.0596  0.0  ...        0.9050          0.000071    0.1320   \n",
       "02-11-1999    0.4430  2.0  ...        0.4690          0.000000    0.0829   \n",
       "\n",
       "              valence    tempo  time_signature  track_genre  year  duration  \\\n",
       "release_date                                                                  \n",
       "02-11-1999      0.715   87.917             4.0     acoustic  1999       230   \n",
       "02-11-1999      0.267   77.489             4.0     acoustic  1999       149   \n",
       "02-11-1999      0.120   76.332             4.0     acoustic  1999       210   \n",
       "02-11-1999      0.143  181.740             3.0     acoustic  1999       201   \n",
       "02-11-1999      0.167  119.949             4.0     acoustic  1999       198   \n",
       "\n",
       "                   dates  \n",
       "release_date              \n",
       "02-11-1999    02-11-1999  \n",
       "02-11-1999    02-11-1999  \n",
       "02-11-1999    02-11-1999  \n",
       "02-11-1999    02-11-1999  \n",
       "02-11-1999    02-11-1999  \n",
       "\n",
       "[5 rows x 23 columns]"
      ]
     },
     "execution_count": 114,
     "metadata": {},
     "output_type": "execute_result"
    }
   ],
   "source": [
    "df_tracks.head()"
   ]
  },
  {
   "cell_type": "markdown",
   "id": "cab2ef24",
   "metadata": {
    "papermill": {
     "duration": 0.051666,
     "end_time": "2022-04-20T20:11:11.570373",
     "exception": false,
     "start_time": "2022-04-20T20:11:11.518707",
     "status": "completed"
    },
    "tags": []
   },
   "source": [
    "### Creating new column in tracks dataset (Year, Release Date)"
   ]
  },
  {
   "cell_type": "code",
   "execution_count": null,
   "id": "cd804446",
   "metadata": {},
   "outputs": [],
   "source": [
    "df_tracks['dates']=df_tracks.index.get_level_values('dates')\n",
    "df_tracks.dates=pd.to_datetime(df_tracks.dates)\n",
    "years=df_tracks.dates.dt.year"
   ]
  },
  {
   "cell_type": "markdown",
   "id": "e984f1d7",
   "metadata": {
    "papermill": {
     "duration": 0.052882,
     "end_time": "2022-04-20T20:11:12.019275",
     "exception": false,
     "start_time": "2022-04-20T20:11:11.966393",
     "status": "completed"
    },
    "tags": []
   },
   "source": [
    "### Distibution plot - Visualize total number of songs on Spotify since 1992"
   ]
  },
  {
   "cell_type": "code",
   "execution_count": 20,
   "id": "2b0de209",
   "metadata": {
    "execution": {
     "iopub.execute_input": "2022-04-20T20:11:12.127513Z",
     "iopub.status.busy": "2022-04-20T20:11:12.126966Z",
     "iopub.status.idle": "2022-04-20T20:11:13.328084Z",
     "shell.execute_reply": "2022-04-20T20:11:13.327103Z"
    },
    "papermill": {
     "duration": 1.257757,
     "end_time": "2022-04-20T20:11:13.330271",
     "exception": false,
     "start_time": "2022-04-20T20:11:12.072514",
     "status": "completed"
    },
    "scrolled": true,
    "tags": []
   },
   "outputs": [
    {
     "data": {
      "text/plain": [
       "<seaborn.axisgrid.FacetGrid at 0x7f0c52ed6610>"
      ]
     },
     "execution_count": 20,
     "metadata": {},
     "output_type": "execute_result"
    },
    {
     "data": {
      "image/png": "[encoded data removed]",
      "text/plain": [
       "<Figure size 720x360 with 1 Axes>"
      ]
     },
     "metadata": {
      "needs_background": "light"
     },
     "output_type": "display_data"
    }
   ],
   "source": [
    "sns.displot(years, discrete=True, aspect=2, height=5, kind='hist').set(title='Number of songs per year')"
   ]
  },
  {
   "cell_type": "code",
   "execution_count": 117,
   "id": "923761fd",
   "metadata": {},
   "outputs": [
    {
     "data": {
      "text/html": [
       "<div>\n",
       "<style scoped>\n",
       "    .dataframe tbody tr th:only-of-type {\n",
       "        vertical-align: middle;\n",
       "    }\n",
       "\n",
       "    .dataframe tbody tr th {\n",
       "        vertical-align: top;\n",
       "    }\n",
       "\n",
       "    .dataframe thead th {\n",
       "        text-align: right;\n",
       "    }\n",
       "</style>\n",
       "<table border=\"1\" class=\"dataframe\">\n",
       "  <thead>\n",
       "    <tr style=\"text-align: right;\">\n",
       "      <th></th>\n",
       "      <th>genre</th>\n",
       "      <th>artist_name</th>\n",
       "      <th>track_name</th>\n",
       "      <th>track_id</th>\n",
       "      <th>popularity</th>\n",
       "      <th>acousticness</th>\n",
       "      <th>danceability</th>\n",
       "      <th>duration_ms</th>\n",
       "      <th>energy</th>\n",
       "      <th>instrumentalness</th>\n",
       "      <th>key</th>\n",
       "      <th>liveness</th>\n",
       "      <th>loudness</th>\n",
       "      <th>mode</th>\n",
       "      <th>speechiness</th>\n",
       "      <th>tempo</th>\n",
       "      <th>time_signature</th>\n",
       "      <th>valence</th>\n",
       "    </tr>\n",
       "  </thead>\n",
       "  <tbody>\n",
       "    <tr>\n",
       "      <th>0</th>\n",
       "      <td>Movie</td>\n",
       "      <td>Henri Salvador</td>\n",
       "      <td>C'est beau de faire un Show</td>\n",
       "      <td>0BRjO6ga9RKCKjfDqeFgWV</td>\n",
       "      <td>0</td>\n",
       "      <td>0.611</td>\n",
       "      <td>0.389</td>\n",
       "      <td>99373</td>\n",
       "      <td>0.910</td>\n",
       "      <td>0.000</td>\n",
       "      <td>C#</td>\n",
       "      <td>0.3460</td>\n",
       "      <td>-1.828</td>\n",
       "      <td>Major</td>\n",
       "      <td>0.0525</td>\n",
       "      <td>166.969</td>\n",
       "      <td>04-Apr</td>\n",
       "      <td>0.814</td>\n",
       "    </tr>\n",
       "    <tr>\n",
       "      <th>1</th>\n",
       "      <td>Movie</td>\n",
       "      <td>Martin &amp; les fées</td>\n",
       "      <td>Perdu d'avance (par Gad Elmaleh)</td>\n",
       "      <td>0BjC1NfoEOOusryehmNudP</td>\n",
       "      <td>1</td>\n",
       "      <td>0.246</td>\n",
       "      <td>0.590</td>\n",
       "      <td>137373</td>\n",
       "      <td>0.737</td>\n",
       "      <td>0.000</td>\n",
       "      <td>F#</td>\n",
       "      <td>0.1510</td>\n",
       "      <td>-5.559</td>\n",
       "      <td>Minor</td>\n",
       "      <td>0.0868</td>\n",
       "      <td>174.003</td>\n",
       "      <td>04-Apr</td>\n",
       "      <td>0.816</td>\n",
       "    </tr>\n",
       "    <tr>\n",
       "      <th>2</th>\n",
       "      <td>Movie</td>\n",
       "      <td>Joseph Williams</td>\n",
       "      <td>Don't Let Me Be Lonely Tonight</td>\n",
       "      <td>0CoSDzoNIKCRs124s9uTVy</td>\n",
       "      <td>3</td>\n",
       "      <td>0.952</td>\n",
       "      <td>0.663</td>\n",
       "      <td>170267</td>\n",
       "      <td>0.131</td>\n",
       "      <td>0.000</td>\n",
       "      <td>C</td>\n",
       "      <td>0.1030</td>\n",
       "      <td>-13.879</td>\n",
       "      <td>Minor</td>\n",
       "      <td>0.0362</td>\n",
       "      <td>99.488</td>\n",
       "      <td>05-Apr</td>\n",
       "      <td>0.368</td>\n",
       "    </tr>\n",
       "    <tr>\n",
       "      <th>3</th>\n",
       "      <td>Movie</td>\n",
       "      <td>Henri Salvador</td>\n",
       "      <td>Dis-moi Monsieur Gordon Cooper</td>\n",
       "      <td>0Gc6TVm52BwZD07Ki6tIvf</td>\n",
       "      <td>0</td>\n",
       "      <td>0.703</td>\n",
       "      <td>0.240</td>\n",
       "      <td>152427</td>\n",
       "      <td>0.326</td>\n",
       "      <td>0.000</td>\n",
       "      <td>C#</td>\n",
       "      <td>0.0985</td>\n",
       "      <td>-12.178</td>\n",
       "      <td>Major</td>\n",
       "      <td>0.0395</td>\n",
       "      <td>171.758</td>\n",
       "      <td>04-Apr</td>\n",
       "      <td>0.227</td>\n",
       "    </tr>\n",
       "    <tr>\n",
       "      <th>4</th>\n",
       "      <td>Movie</td>\n",
       "      <td>Fabien Nataf</td>\n",
       "      <td>Ouverture</td>\n",
       "      <td>0IuslXpMROHdEPvSl1fTQK</td>\n",
       "      <td>4</td>\n",
       "      <td>0.950</td>\n",
       "      <td>0.331</td>\n",
       "      <td>82625</td>\n",
       "      <td>0.225</td>\n",
       "      <td>0.123</td>\n",
       "      <td>F</td>\n",
       "      <td>0.2020</td>\n",
       "      <td>-21.150</td>\n",
       "      <td>Major</td>\n",
       "      <td>0.0456</td>\n",
       "      <td>140.576</td>\n",
       "      <td>04-Apr</td>\n",
       "      <td>0.390</td>\n",
       "    </tr>\n",
       "  </tbody>\n",
       "</table>\n",
       "</div>"
      ],
      "text/plain": [
       "   genre        artist_name                        track_name  \\\n",
       "0  Movie     Henri Salvador       C'est beau de faire un Show   \n",
       "1  Movie  Martin & les fées  Perdu d'avance (par Gad Elmaleh)   \n",
       "2  Movie    Joseph Williams    Don't Let Me Be Lonely Tonight   \n",
       "3  Movie     Henri Salvador    Dis-moi Monsieur Gordon Cooper   \n",
       "4  Movie       Fabien Nataf                         Ouverture   \n",
       "\n",
       "                 track_id  popularity  acousticness  danceability  \\\n",
       "0  0BRjO6ga9RKCKjfDqeFgWV           0         0.611         0.389   \n",
       "1  0BjC1NfoEOOusryehmNudP           1         0.246         0.590   \n",
       "2  0CoSDzoNIKCRs124s9uTVy           3         0.952         0.663   \n",
       "3  0Gc6TVm52BwZD07Ki6tIvf           0         0.703         0.240   \n",
       "4  0IuslXpMROHdEPvSl1fTQK           4         0.950         0.331   \n",
       "\n",
       "   duration_ms  energy  instrumentalness key  liveness  loudness   mode  \\\n",
       "0        99373   0.910             0.000  C#    0.3460    -1.828  Major   \n",
       "1       137373   0.737             0.000  F#    0.1510    -5.559  Minor   \n",
       "2       170267   0.131             0.000   C    0.1030   -13.879  Minor   \n",
       "3       152427   0.326             0.000  C#    0.0985   -12.178  Major   \n",
       "4        82625   0.225             0.123   F    0.2020   -21.150  Major   \n",
       "\n",
       "   speechiness    tempo time_signature  valence  \n",
       "0       0.0525  166.969         04-Apr    0.814  \n",
       "1       0.0868  174.003         04-Apr    0.816  \n",
       "2       0.0362   99.488         05-Apr    0.368  \n",
       "3       0.0395  171.758         04-Apr    0.227  \n",
       "4       0.0456  140.576         04-Apr    0.390  "
      ]
     },
     "execution_count": 117,
     "metadata": {},
     "output_type": "execute_result"
    }
   ],
   "source": [
    "df_spotfeatures.head()"
   ]
  },
  {
   "cell_type": "markdown",
   "id": "8319f841",
   "metadata": {
    "papermill": {
     "duration": 0.057652,
     "end_time": "2022-04-20T20:11:24.670125",
     "exception": false,
     "start_time": "2022-04-20T20:11:24.612473",
     "status": "completed"
    },
    "tags": []
   },
   "source": [
    "## Spotify Features Dataset Analysis"
   ]
  },
  {
   "cell_type": "markdown",
   "id": "fd9c767a",
   "metadata": {
    "papermill": {
     "duration": 0.055933,
     "end_time": "2022-04-20T20:11:24.782237",
     "exception": false,
     "start_time": "2022-04-20T20:11:24.726304",
     "status": "completed"
    },
    "tags": []
   },
   "source": [
    "### Duration of songs in different Genres"
   ]
  },
  {
   "cell_type": "code",
   "execution_count": 115,
   "id": "c6a2230a",
   "metadata": {
    "execution": {
     "iopub.execute_input": "2022-04-20T20:11:24.897066Z",
     "iopub.status.busy": "2022-04-20T20:11:24.896711Z",
     "iopub.status.idle": "2022-04-20T20:11:28.768442Z",
     "shell.execute_reply": "2022-04-20T20:11:28.767525Z"
    },
    "papermill": {
     "duration": 3.932869,
     "end_time": "2022-04-20T20:11:28.770709",
     "exception": false,
     "start_time": "2022-04-20T20:11:24.83784",
     "status": "completed"
    },
    "tags": []
   },
   "outputs": [
    {
     "data": {
      "text/plain": [
       "Text(0, 0.5, 'Genres')"
      ]
     },
     "execution_count": 115,
     "metadata": {},
     "output_type": "execute_result"
    },
    {
     "data": {
      "image/png": "[encoded data removed]",
      "text/plain": [
       "<Figure size 640x480 with 1 Axes>"
      ]
     },
     "metadata": {},
     "output_type": "display_data"
    }
   ],
   "source": [
    "plt.title('Duration of songs in different Genres')\n",
    "sns.color_palette('rocket', as_cmap=True)\n",
    "sns.barplot(y='genre', x='duration_ms', data=df_spotfeatures)\n",
    "plt.xlabel('Duration in milliseconds')\n",
    "plt.ylabel('Genres')"
   ]
  },
  {
   "cell_type": "markdown",
   "id": "850689af",
   "metadata": {
    "papermill": {
     "duration": 0.057133,
     "end_time": "2022-04-20T20:11:28.885568",
     "exception": false,
     "start_time": "2022-04-20T20:11:28.828435",
     "status": "completed"
    },
    "tags": []
   },
   "source": [
    "### Top 5 Genres by Popularity"
   ]
  },
  {
   "cell_type": "code",
   "execution_count": 118,
   "id": "aaa4e57c",
   "metadata": {
    "execution": {
     "iopub.execute_input": "2022-04-20T20:11:29.003451Z",
     "iopub.status.busy": "2022-04-20T20:11:29.00313Z",
     "iopub.status.idle": "2022-04-20T20:11:29.417638Z",
     "shell.execute_reply": "2022-04-20T20:11:29.416756Z"
    },
    "papermill": {
     "duration": 0.476012,
     "end_time": "2022-04-20T20:11:29.419765",
     "exception": false,
     "start_time": "2022-04-20T20:11:28.943753",
     "status": "completed"
    },
    "tags": []
   },
   "outputs": [
    {
     "data": {
      "text/plain": [
       "[Text(0.5, 1.0, 'Top 5 Genres by Popularity')]"
      ]
     },
     "execution_count": 118,
     "metadata": {},
     "output_type": "execute_result"
    },
    {
     "data": {
      "image/png": "[encoded data removed]",
      "text/plain": [
       "<Figure size 1000x500 with 1 Axes>"
      ]
     },
     "metadata": {},
     "output_type": "display_data"
    }
   ],
   "source": [
    "sns.set_style(style='darkgrid')\n",
    "plt.figure(figsize=(10,5))\n",
    "popular = df_spotfeatures.sort_values('popularity', ascending=False).head(10)\n",
    "sns.barplot(y = 'genre', x = 'popularity', data = popular).set(title='Top 5 Genres by Popularity')"
   ]
  }
 ],
 "metadata": {
  "kernelspec": {
   "display_name": "Python 3 (ipykernel)",
   "language": "python",
   "name": "python3"
  },
  "language_info": {
   "codemirror_mode": {
    "name": "ipython",
    "version": 3
   },
   "file_extension": ".py",
   "mimetype": "text/x-python",
   "name": "python",
   "nbconvert_exporter": "python",
   "pygments_lexer": "ipython3",
   "version": "3.10.9"
  },
  "papermill": {
   "default_parameters": {},
   "duration": 45.934294,
   "end_time": "2022-04-20T20:11:30.501934",
   "environment_variables": {},
   "exception": null,
   "input_path": "__notebook__.ipynb",
   "output_path": "__notebook__.ipynb",
   "parameters": {},
   "start_time": "2022-04-20T20:10:44.56764",
   "version": "2.3.4"
  }
 },
 "nbformat": 4,
 "nbformat_minor": 5
}
